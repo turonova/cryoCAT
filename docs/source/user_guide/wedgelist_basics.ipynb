{
 "cells": [
  {
   "cell_type": "markdown",
   "metadata": {},
   "source": [
    "# Wedge lists"
   ]
  },
  {
   "cell_type": "markdown",
   "metadata": {},
   "source": [
    "## Basics\n",
    "Wedge lists are tabular files that contain the information about the missing wedge. They can contain information about one single tomogram or multiple tomograms and are required for subtomogram avergaing (STA) and template matching (TM). The least information that they contain is the tomogram identification number, the minimum and the maximum tilt angle. <br/>\n",
    "The `wedgeutils` module in cryoCAT allows to work with wedge lists in EM or STOPGAP STAR format. Internally, wedge lists are stored as dataframes with a different number of columns depending on the format.<br/>\n",
    "\n",
    "- **STOPGAP STAR format**: These files employ the widely employed STAR format. They contain as many rows as the number of projection images and 11 columns:\n",
    "  - `tomo_id`: Tomogram identification number to which the projection image belongs to;\n",
    "  - `pixelsize`: Original pixel size in Armstrongs (Å);\n",
    "  - `tomo_x`: Number of pixels on the x-axis;\n",
    "  - `tomo_y`: Number of pixels on the y-axis;\n",
    "  - `tomo_z`: Number of pixels on the z-axis. All the tomogram dimensions refer to the unbinned tomogram dimensions;\n",
    "  - `z_shift`: Any shifts applied on the z-axis to center the tomogram;\n",
    "  - `tilt_angle`: Tilt angle at which the projection image was collected;\n",
    "  - `defocus`: Estimated defocus of that projection image;\n",
    "  - `exposure`: Corrected dose for that projection image. It takes into account any prior dose and the cumulative dose;\n",
    "  - `voltage`;\n",
    "  - `amp_contrast`: Amplitude contrast;\n",
    "  - `cs`: Spherical aberrations.\n",
    "\n",
    "- **EM format**: These files contain as many rows as the number of tomograms and 3 columns:\n",
    "  - `tomo_num`: Tomogram identification number;\n",
    "  - `min_angle`: Minimum tilt angle;\n",
    "  - `max_angle`: Maximum tilt angle. \n",
    "\n",
    "In the following section, we provide some examples of the `wedgelist` module functionalities."
   ]
  },
  {
   "cell_type": "markdown",
   "metadata": {},
   "source": [
    "### Pre-requisites\n",
    "To work with the functions illustrated herein, you need to need to import the `wedgeutils` module. Another useful third-party package is Pandas. Any additional requirements are pointed out where necessary."
   ]
  },
  {
   "cell_type": "code",
   "execution_count": null,
   "metadata": {},
   "outputs": [],
   "source": [
    "from cryocat import wedgeutils\n",
    "import pandas as pd"
   ]
  },
  {
   "cell_type": "markdown",
   "metadata": {},
   "source": [
    "## Functions to generate wedge lists\n",
    "CryoCAT offers functions to generate wedge lists in both EM and STOPGAP starfile format, as indicated below with some basic examples:\n",
    "\n",
    "- EM format: `create_wedge_list_em_batch()`"
   ]
  },
  {
   "cell_type": "code",
   "execution_count": null,
   "metadata": {},
   "outputs": [],
   "source": [
    "# Return a pandas DataFrame object with the wedge list in EM format and save it to the file specified by the desired path\n",
    "my_em_wedgelist_df = wedgeutils.create_wedge_list_em_batch(\"/path/to/tomo_list.txt\",\n",
    "                                                           \"/path/to/TS_$xxx/$xxx.mrc.mdoc\",\n",
    "                                                           output_file=\"/path/to/wedgelist.em\",\n",
    "                                                           )"
   ]
  },
  {
   "cell_type": "markdown",
   "metadata": {},
   "source": [
    "- STOPGAP starfile format: `create_wedge_list_sg_batch()` and `create_wedge_list_sg()` for a wedge list referred to a single tomogram. Typically, you would use the first one to generate a wedge list for all the tomograms in your dataset."
   ]
  },
  {
   "cell_type": "code",
   "execution_count": null,
   "metadata": {},
   "outputs": [],
   "source": [
    "# Return a pandas DataFrame object with the wedge list in STOPGAP format and save it to the file specified by the desired path\n",
    "my_sg_wedgelist_df = wedgeutils.create_wedge_list_em_batch(\"/path/to/tomo_list.txt\",\n",
    "                                                           2.176,\n",
    "                                                           \"/path/to/TS_$xxx/$xxx.mrc.mdoc\",\n",
    "                                                           ctf_file_format = \"/path/to/TS_$xxx/$xxx_ctf_output.txt\", \n",
    "                                                           ctf_file_type = \"ctffind4\",\n",
    "                                                           output_file=\"/path/to/wedgelist.star\",\n",
    "                                                           )"
   ]
  },
  {
   "cell_type": "markdown",
   "metadata": {},
   "source": [
    "- Directly from the terminal via the `wedge_list` command. This allows to generate a STOPGAP starfile wedge list either for a single tomogram or a list of tomograms as for the two functions illustrated above directly from the terminal window or the command line. Furthermore, it is possible to print out the help message by calling the function name followed by `--help` or `-h`. "
   ]
  },
  {
   "cell_type": "markdown",
   "metadata": {},
   "source": [
    "```bash\n",
    "\n",
    "# example for a single tomogram with only the required arguments and the path to the output file, which will not contain the defocus column\n",
    "wedge_list stopgap --tomo_id 30 --tomo_dim 5760,4092,1800 --pixel_size 2.176 --tlt_file /path/to/TS_030.mrc.mdoc --output_file /path/to/TS_030_wedgelist.star \n",
    "\n",
    "# example for a list of tomograms\n",
    "wedge_list stopgap_batch --tomo_list /path/to/tomo_list.txt --pixel_size 2.176 --tlt_file_format /path/to/TS_$xxx/$xxx.mrc.mdoc --output_file /path/to/wedgelist.star\n",
    "    \n",
    "```"
   ]
  },
  {
   "cell_type": "markdown",
   "metadata": {},
   "source": [
    "## Functions to load wedge lists\n",
    "- To load a wedge list in STOPGAP format, you can use the `load_wedge_list_sg()` function;\n",
    "- To load wedge list in EM format, you can use the `load_wedge_list_em()` function.\n",
    "<br/>\n",
    "Both these functions return a pandas DataFrame instance. "
   ]
  },
  {
   "cell_type": "code",
   "execution_count": null,
   "metadata": {},
   "outputs": [],
   "source": [
    "my_sg_wedgelist_df = wedgeutils.load_wedge_list_sg(\"/path/to/my_sg_wedgelist.star\") # STOPGAP format\n",
    "my_em_wedgelist_df = wedgeutils.load_wedge_list_em(\"/path/to/my_sg_wedgelist.em\") # EM format"
   ]
  },
  {
   "cell_type": "markdown",
   "metadata": {},
   "source": [
    "## Others\n",
    "- Convert a wedge list from STOPGAP to EM format: `wedge_list_sg_to_em()`\n",
    "- Create a wedge mask: `create_wg_mask()`\n",
    "- Apply the wedge mask to an EM map: `apply wg_mask()`"
   ]
  }
 ],
 "metadata": {
  "language_info": {
   "name": "python"
  }
 },
 "nbformat": 4,
 "nbformat_minor": 2
}
