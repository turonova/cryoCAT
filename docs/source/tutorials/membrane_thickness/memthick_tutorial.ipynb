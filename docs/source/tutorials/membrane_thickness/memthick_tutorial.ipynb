{
 "cells": [
  {
   "cell_type": "markdown",
   "id": "5e1edfda",
   "metadata": {},
   "source": [
    "# Membrane Thickness Analysis Tutorial\n",
    "\n",
    "- For an inline-rendered version of this tutorial with all outputs included, [click here](memthick_tutorial_inline.html).\n",
    "- To keep this notebook lightweight, plots are pre-generated in the `plots/` folder and displayed using IPython.\n",
    "\n",
    "## Table of Contents\n",
    "1. [Introduction](#introduction)\n",
    "2. [Installation and Setup](#installation-and-setup)\n",
    "3. [Pipeline Overview](#pipeline-overview)\n",
    "4. [Input Data and Configuration](#input-data-and-configuration)\n",
    "5. [Running the Pipeline](#running-the-pipeline)\n",
    "6. [Command Line Interface](#command-line-interface)\n",
    "7. [Results Analysis](#results-analysis)\n",
    "8. [Results Visualization](#results-visualization)\n",
    "9. [Extract Coordinates of Matched Measurement Points](#extract-coordinates-of-matched-measurement-points)\n",
    "10. [Convert Thickness Data into Motive Lists](#convert-thickness-data-into-motive-lists)\n",
    "\n",
    "## Introduction\n",
    "\n",
    "This tutorial demonstrates how to run the memthick pipeline for measuring membrane thickness from cryo-electron tomography (cryo-ET) membrane segmentations, as well as examples of how to analyze and visualize the output data.\n",
    "\n",
    "### Pipeline Stages\n",
    "\n",
    "1. **Input Preparation**:\n",
    "   - Perform instance membrane segmentations and curate labels. We recommend using [MemBrain-seg](https://github.com/teamtomo/membrain-seg/tree/main) [1] with connected components analysis.\n",
    "   - For separating or merging labels post-segmentation, we recommend using the 3D lasso tool in the MemBrain v2 napari plugin or the [napari-segselect](https://github.com/bwmr/napari-segselect/tree/main/.napari-hub) plugin [2].\n",
    "   - Prepare labels (as a config file or dictionary), segmentation, and tomogram files.\n",
    "   - The input data used in this tutorial is an instance segmentation of a *Chlamydomonas reinhardtii* tomogram [3], containing nuclear envelope (NE), inner and outer mitochondrial membranes (IMM and OMM), generated using [MemBrain-seg](https://github.com/teamtomo/membrain-seg/tree/main) [1]. Input data can be found [here](https://oc.biophys.mpg.de/owncloud/s/aHybCW8qnJbMX7F) along with an example configuration file.\n",
    "   - The pipeline can also be run on semantic segmentations (i.e., all membrane instances labeled with ones).\n",
    "\n",
    "2. **Surface Extraction**: Extract surface point coordinates and orientations from segmentations using marching cubes, refine orientations using weighted neighbor averaging, and separate bilayer surfaces using principal component analysis of normal vector orientations.\n",
    "\n",
    "3. **Thickness Measurement**: Match points between surfaces with geometric constraints (maximum thickness and cone angle search). Measure thickness as Euclidean distance between matched points.\n",
    "\n",
    "4. **Intensity Profiling**: Extract intensity profiles from the input tomogram along vectors connecting matched points and validate measurements using profile features (user-configurable, for details see [Stage 3: Intensity Profile Analysis](#stage-3-intensity-profile-analysis---building-intuition)).\n",
    "\n",
    "5. **Quality Filtering**: Remove uncertain measurements based on intensity profile features such as dual minima detection, central maximum presence, and signal-to-noise ratios.\n",
    "\n",
    "6. **Analysis & Visualization**: Comprehensive statistical analysis and visualization of results with interactive Plotly plots.\n",
    "\n",
    "#### References:\n",
    "[1] L. Lamm, *et al.* MemBrain v2: an end-to-end tool for the analysis of membranes in cryo-electron tomography. *bioRxiv*. **2025**. [https://www.biorxiv.org/content/10.1101/2024.01.05.574336v2](https://www.biorxiv.org/content/10.1101/2024.01.05.574336v2)\n",
    "\n",
    "[2] [napari-segselect: Napari Plugin to clean membrain-seg segmentations](https://github.com/bwmr/napari-segselect/tree/main/.napari-hub)\n",
    "\n",
    "[3] R. Kelley, *et al.* Towards community-driven visual proteomics with large-scale cryo-electron tomography of Chlamydomonas reinhardtii. *bioRxiv*. **2024** [https://www.biorxiv.org/content/10.1101/2024.12.28.630444v1](https://www.biorxiv.org/content/10.1101/2024.12.28.630444v1)\n",
    "\n",
    "## Installation and Setup\n",
    "\n",
    "### Dependencies\n",
    "```bash\n",
    "# Core dependencies (should be installed in cryoCAT environment)\n",
    "pip install pyyaml tqdm plotly pandas\n",
    "conda install numba -c conda-forge\n",
    "\n",
    "# Optional: GPU acceleration (recommended for large datasets)\n",
    "conda install cudatoolkit"
   ]
  },
  {
   "cell_type": "code",
   "execution_count": 1,
   "id": "931bd4db",
   "metadata": {},
   "outputs": [],
   "source": [
    "%load_ext autoreload\n",
    "%autoreload 2\n",
    "\n",
    "from cryocat import memthick # Main pipeline\n",
    "import memthick_analyze_plot as maple  # Analysis and plotting module\n",
    "\n",
    "from IPython.display import IFrame"
   ]
  },
  {
   "cell_type": "markdown",
   "id": "2cd6ffa2",
   "metadata": {},
   "source": [
    "## Pipeline Overview\n",
    "\n",
    "### Core Parameters Reference\n",
    "\n",
    "#### Input Files\n",
    "| Parameter | Description | Default | Notes |\n",
    "|-----------|-------------|---------|-------|\n",
    "| `segmentation_path` | Input segmentation MRC file | (required) | Must have correct voxel size metadata |\n",
    "| `tomo_path` | Tomogram MRC file for intensity analysis | None | Required for intensity profiling |\n",
    "| `config_path` | YAML file with membrane labels | None | Alternative to `membrane_labels` |\n",
    "| `membrane_labels` | Dict mapping names to label values | `{\"membrane\": 1}` | e.g., `{\"NE\": 1, \"ER\": 2}` |\n",
    "| `output_dir` | Output directory | Same as input | Where results are saved |\n",
    "\n",
    "#### Surface Processing\n",
    "| Parameter | Description | Default | Recommended | Impact |\n",
    "|-----------|-------------|---------|-------------|--------|\n",
    "| `mesh_sampling` | Marching cubes step size | 1 | 1-2 | Higher = faster, less detail |\n",
    "| `interpolate` | Add interpolated surface points | True | ✓ | Improves surface coverage |\n",
    "| `interpolation_points` | Points between vertices | 1 | 1-2 | Higher = denser sampling |\n",
    "| `refine_normals` | Improve normal vectors | True | ✓ | Essential for bilayer separation |\n",
    "| `radius_hit` | Normal refinement radius (voxels) | 10.0 | 5-15 | 10 should work well |\n",
    "| `flip_normals` | Orient normals inward | True | ✓ | For thickness measurements |\n",
    "\n",
    "#### Thickness Measurement\n",
    "| Parameter | Description | Default | Recommended | Impact |\n",
    "|-----------|-------------|---------|-------------|--------|\n",
    "| `max_thickness` | Maximum search distance (nm) | 8.0 | 6-10 | Membrane-dependent |\n",
    "| `max_angle` | Cone search angle (degrees) | 1.0 | 1-3 | Lower = more precise |\n",
    "| `direction` | Measurement direction | \"1to2\" | Try both | Should not affect results |\n",
    "| `use_gpu` | GPU acceleration | True | ✓ if available | Impacts only the thickness measurement step |\n",
    "\n",
    "#### Intensity Profiling \n",
    "| Parameter | Description | Default | Recommended | Impact |\n",
    "|-----------|-------------|---------|-------------|--------|\n",
    "| `extract_intensity_profiles` | Enable intensity analysis | True | ✓ | Required for automated filtering of thickness results |\n",
    "| `intensity_extension_voxels` | Profile extension distance | 10 | 8-15 | Context around measurement points |\n",
    "| `intensity_extension_range` | Analysis window | (-10, 10) | Match extension_voxels | Range for feature detection (setting this too wide can be problematic in case of e.g. membrane-bound ribosomes) |\n",
    "| `intensity_min_snr` | Minimum signal-to-noise ratio | 1.0 | 0.5-2.0 | Peak prominence above baseline noise |\n",
    "| `intensity_margin_factor` | Position tolerance | 0.0 | 0.1-0.3 | How much further out of the paired points can the minima be detected (0.3 ≈ c.a. 1-1.5 voxels) |\n",
    "| `intensity_require_both_minima` | Both minima required | True | ✓ | Must find two minima within the measurement range |\n",
    "| `intensity_central_max_required` | Require central maximum | True | ✓ | Two minima separated by a central maximum |\n",
    "\n",
    "## Input Data and Configuration\n",
    "\n",
    "### Example Data Structure\n",
    "```\n",
    "project/\n",
    "├── inputs/\n",
    "│   ├── segmentation.mrc          # Instance or semantic segmentation\n",
    "│   ├── tomogram.mrc             # Original tomogram (for intensity)\n",
    "│   └── config.yml               # Membrane label configuration\n",
    "└── outputs/                     # Generated results\n",
    "```\n",
    "\n",
    "### Configuration File Format\n",
    "```yaml\n",
    "# config.yml\n",
    "NE: 1     \n",
    "OMM: 2    \n",
    "IMM: 3     \n",
    "ER: 4      \n",
    "```\n",
    "\n",
    "### Setup Paths"
   ]
  },
  {
   "cell_type": "code",
   "execution_count": 2,
   "id": "faa9476a",
   "metadata": {},
   "outputs": [],
   "source": [
    "# Input paths\n",
    "segmentation_path = 'inputs/2738_z200to340_segmented.mrc'\n",
    "tomo_path = 'inputs/2738_z200to340.mrc'  # For intensity profiling\n",
    "config_path = 'inputs/config_2738.yml'\n",
    "\n",
    "# Alternative: Direct label specification\n",
    "membrane_labels = {\n",
    "    'NE': 1,\n",
    "    'OMM': 2, \n",
    "    'IMM': 3  \n",
    "}\n",
    "\n",
    "# Output directory\n",
    "output_dir = 'outputs/'"
   ]
  },
  {
   "cell_type": "markdown",
   "id": "e2a24abf",
   "metadata": {},
   "source": [
    "## Running the Pipeline\n",
    "\n",
    "### 1. Entire Pipeline with Intensity Profiling (Recommended)"
   ]
  },
  {
   "cell_type": "code",
   "execution_count": 3,
   "id": "4d6e4010",
   "metadata": {},
   "outputs": [
    {
     "name": "stderr",
     "output_type": "stream",
     "text": [
      "2025-08-20 15:17:30,220 - Starting full membrane thickness analysis pipeline for inputs/2738_z200to340_segmented.mrc\n",
      "2025-08-20 15:17:30,223 - Intensity profiling enabled with tomogram: inputs/2738_z200to340.mrc\n",
      "2025-08-20 15:17:30,224 - Step 1: Processing membrane segmentation\n",
      "2025-08-20 15:17:30,226 - Reading segmentation from inputs/2738_z200to340_segmented.mrc...\n",
      "2025-08-20 15:17:30,229 - Voxel size: 0.7840 nm\n",
      "2025-08-20 15:17:30,230 - Origin: (np.float32(0.0), np.float32(0.0), np.float32(0.0))\n",
      "2025-08-20 15:17:30,231 - Shape (ZYX): (141, 1024, 1024)\n",
      "2025-08-20 15:17:30,232 - \n",
      "Processing NE (label 1)\n",
      "2025-08-20 15:17:30,299 - Extracting surface points with step size 1...\n",
      "2025-08-20 15:17:30,300 - Extracting surface points with step size 1...\n",
      "2025-08-20 15:17:35,480 - Extracted 371023 surface points\n",
      "2025-08-20 15:17:36,312 - Extracted 371023 surface points\n",
      "2025-08-20 15:17:36,313 - Interpolating surface points (before: 371023 vertices)\n",
      "2025-08-20 15:17:52,088 - Interpolation: 371023 → 498069 vertices\n",
      "2025-08-20 15:17:52,655 - After point interpolation: 498069 vertices\n",
      "2025-08-20 15:17:52,656 - Refining normals with weighted-average method...\n",
      "2025-08-20 15:17:52,658 - Building KD-tree for neighbor searches...\n",
      "2025-08-20 15:17:52,895 - \n",
      "Separating surfaces using marching cubes orientation...\n",
      "2025-08-20 15:17:52,896 - \n",
      "Separating bilayer surfaces...\n",
      "2025-08-20 15:17:52,922 - Surface 1: 246748 points\n",
      "2025-08-20 15:17:52,926 - Surface 2: 251321 points\n",
      "2025-08-20 15:17:52,926 - \n",
      "Orienting normals...\n",
      "2025-08-20 15:17:52,927 - Computing normal orientations...\n",
      "2025-08-20 15:17:53,580 - Building adjacency graph in batches of 2000...\n",
      "100%|██████████| 250/250 [01:08<00:00,  3.66it/s]\n",
      "2025-08-20 15:19:01,846 - Computing minimum spanning tree...\n",
      "2025-08-20 15:19:01,849 - Propagating orientations...\n",
      "2025-08-20 15:19:01,851 - \n",
      "Refining normals using weighted average of neighbor normals...\n",
      "2025-08-20 15:19:01,851 - \n",
      "Refining normal directions using single-scale approach...\n",
      "100%|██████████| 250/250 [00:40<00:00,  6.21it/s]\n",
      "2025-08-20 15:19:42,115 - \n",
      "Separating bilayer surfaces...\n",
      "2025-08-20 15:19:42,138 - Surface 1: 244604 points\n",
      "2025-08-20 15:19:42,151 - Surface 2: 253465 points\n",
      "2025-08-20 15:19:42,169 - Successfully separated surfaces\n",
      "2025-08-20 15:19:42,198 - Successfully separated bilayer surfaces:\n",
      "2025-08-20 15:19:42,206 - Surface 1: 244604 points\n",
      "2025-08-20 15:19:42,207 - Surface 2: 253465 points\n",
      "2025-08-20 15:19:42,207 - Updating vertex volume with interpolated points...\n",
      "Updating vertex volume: 100%|██████████| 498069/498069 [00:00<00:00, 548748.84it/s]\n",
      "2025-08-20 15:19:43,163 - Final vertex count: 498069\n",
      "2025-08-20 15:19:43,164 - \n",
      "Saving outputs for NE:\n",
      "2025-08-20 15:19:43,165 - Vertices: 498069, Surface 1: 244604, Surface 2: 253465\n",
      "2025-08-20 15:19:48,611 - Saved CSV with 498069 vertices to outputs/2738_z200to340_segmented_NE_vertices_normals.csv\n",
      "2025-08-20 15:19:48,612 - \n",
      "Processing OMM (label 2)\n",
      "2025-08-20 15:19:48,637 - Extracting surface points with step size 1...\n",
      "2025-08-20 15:19:48,637 - Extracting surface points with step size 1...\n",
      "2025-08-20 15:19:51,397 - Extracted 131984 surface points\n",
      "2025-08-20 15:19:51,724 - Extracted 131984 surface points\n",
      "2025-08-20 15:19:51,727 - Interpolating surface points (before: 131984 vertices)\n",
      "/home/ms/deglushk/projects/tm_membranes/bilayer_thickness/memthick_final.py:1288: RuntimeWarning: invalid value encountered in divide\n",
      "  interp_normal /= np.linalg.norm(interp_normal)\n",
      "2025-08-20 15:19:57,327 - Interpolation: 131984 → 174727 vertices\n",
      "2025-08-20 15:19:57,507 - After point interpolation: 174727 vertices\n",
      "2025-08-20 15:19:57,508 - Refining normals with weighted-average method...\n",
      "2025-08-20 15:19:57,509 - Building KD-tree for neighbor searches...\n",
      "2025-08-20 15:19:57,582 - \n",
      "Separating surfaces using marching cubes orientation...\n",
      "2025-08-20 15:19:57,583 - \n",
      "Separating bilayer surfaces...\n",
      "2025-08-20 15:19:57,598 - Surface 1: 84659 points\n",
      "2025-08-20 15:19:57,602 - Surface 2: 90068 points\n",
      "2025-08-20 15:19:57,614 - \n",
      "Orienting normals...\n",
      "2025-08-20 15:19:57,614 - Computing normal orientations...\n",
      "2025-08-20 15:19:57,863 - Building adjacency graph in batches of 2000...\n",
      "100%|██████████| 88/88 [00:19<00:00,  4.54it/s]\n",
      "2025-08-20 15:20:17,272 - Computing minimum spanning tree...\n",
      "2025-08-20 15:20:17,273 - Propagating orientations...\n",
      "2025-08-20 15:20:17,275 - \n",
      "Refining normals using weighted average of neighbor normals...\n",
      "2025-08-20 15:20:17,275 - \n",
      "Refining normal directions using single-scale approach...\n",
      "100%|██████████| 88/88 [00:13<00:00,  6.29it/s]\n",
      "2025-08-20 15:20:31,263 - \n",
      "Separating bilayer surfaces...\n",
      "2025-08-20 15:20:31,290 - Surface 1: 76865 points\n",
      "2025-08-20 15:20:31,290 - Surface 2: 97862 points\n",
      "2025-08-20 15:20:31,291 - Successfully separated surfaces\n",
      "2025-08-20 15:20:31,292 - Successfully separated bilayer surfaces:\n",
      "2025-08-20 15:20:31,292 - Surface 1: 76865 points\n",
      "2025-08-20 15:20:31,293 - Surface 2: 97862 points\n",
      "2025-08-20 15:20:31,293 - Updating vertex volume with interpolated points...\n",
      "Updating vertex volume: 100%|██████████| 174727/174727 [00:00<00:00, 514327.93it/s]\n",
      "2025-08-20 15:20:31,682 - Final vertex count: 174727\n",
      "2025-08-20 15:20:31,682 - \n",
      "Saving outputs for OMM:\n",
      "2025-08-20 15:20:31,683 - Vertices: 174727, Surface 1: 76865, Surface 2: 97862\n",
      "2025-08-20 15:20:33,621 - Saved CSV with 174727 vertices to outputs/2738_z200to340_segmented_OMM_vertices_normals.csv\n",
      "2025-08-20 15:20:33,622 - \n",
      "Processing IMM (label 3)\n",
      "2025-08-20 15:20:33,654 - Extracting surface points with step size 1...\n",
      "2025-08-20 15:20:33,655 - Extracting surface points with step size 1...\n",
      "2025-08-20 15:20:37,495 - Extracted 235660 surface points\n",
      "2025-08-20 15:20:38,050 - Extracted 235660 surface points\n",
      "2025-08-20 15:20:38,051 - Interpolating surface points (before: 235660 vertices)\n",
      "/home/ms/deglushk/projects/tm_membranes/bilayer_thickness/memthick_final.py:1288: RuntimeWarning: invalid value encountered in divide\n",
      "  interp_normal /= np.linalg.norm(interp_normal)\n",
      "2025-08-20 15:20:47,775 - Interpolation: 235660 → 314937 vertices\n",
      "2025-08-20 15:20:48,134 - After point interpolation: 314937 vertices\n",
      "2025-08-20 15:20:48,136 - Refining normals with weighted-average method...\n",
      "2025-08-20 15:20:48,137 - Building KD-tree for neighbor searches...\n",
      "2025-08-20 15:20:48,275 - \n",
      "Separating surfaces using marching cubes orientation...\n",
      "2025-08-20 15:20:48,276 - \n",
      "Separating bilayer surfaces...\n",
      "2025-08-20 15:20:48,302 - Surface 1: 155861 points\n",
      "2025-08-20 15:20:48,306 - Surface 2: 159076 points\n",
      "2025-08-20 15:20:48,308 - \n",
      "Orienting normals...\n",
      "2025-08-20 15:20:48,308 - Computing normal orientations...\n",
      "2025-08-20 15:20:48,802 - Building adjacency graph in batches of 2000...\n",
      "100%|██████████| 158/158 [00:38<00:00,  4.13it/s]\n",
      "2025-08-20 15:21:27,049 - Computing minimum spanning tree...\n",
      "2025-08-20 15:21:27,052 - Propagating orientations...\n",
      "2025-08-20 15:21:27,053 - \n",
      "Refining normals using weighted average of neighbor normals...\n",
      "2025-08-20 15:21:27,054 - \n",
      "Refining normal directions using single-scale approach...\n",
      "100%|██████████| 158/158 [00:25<00:00,  6.20it/s]\n",
      "2025-08-20 15:21:52,541 - \n",
      "Separating bilayer surfaces...\n",
      "2025-08-20 15:21:52,558 - Surface 1: 139731 points\n",
      "2025-08-20 15:21:52,562 - Surface 2: 175206 points\n",
      "2025-08-20 15:21:52,574 - Successfully separated surfaces\n",
      "2025-08-20 15:21:52,575 - Successfully separated bilayer surfaces:\n",
      "2025-08-20 15:21:52,575 - Surface 1: 139731 points\n",
      "2025-08-20 15:21:52,576 - Surface 2: 175206 points\n",
      "2025-08-20 15:21:52,576 - Updating vertex volume with interpolated points...\n",
      "Updating vertex volume: 100%|██████████| 314937/314937 [00:00<00:00, 534626.82it/s]\n",
      "2025-08-20 15:21:53,218 - Final vertex count: 314937\n",
      "2025-08-20 15:21:53,218 - \n",
      "Saving outputs for IMM:\n",
      "2025-08-20 15:21:53,219 - Vertices: 314937, Surface 1: 139731, Surface 2: 175206\n",
      "2025-08-20 15:21:56,578 - Saved CSV with 314937 vertices to outputs/2738_z200to340_segmented_IMM_vertices_normals.csv\n",
      "2025-08-20 15:21:56,585 - \n",
      "Step 2: Measuring membrane thickness\n",
      "2025-08-20 15:21:56,585 - \n",
      "Processing thickness for NE\n",
      "2025-08-20 15:21:56,586 - Reading segmentation from inputs/2738_z200to340_segmented.mrc...\n",
      "2025-08-20 15:21:56,587 - Voxel size: 0.7840 nm\n",
      "2025-08-20 15:21:56,587 - Origin: (np.float32(0.0), np.float32(0.0), np.float32(0.0))\n",
      "2025-08-20 15:21:56,588 - Shape (ZYX): (141, 1024, 1024)\n",
      "2025-08-20 15:21:56,588 - Loading data from outputs/2738_z200to340_segmented_NE_vertices_normals.csv...\n",
      "2025-08-20 15:21:57,013 - CUDA GPU is available and will be used\n",
      "2025-08-20 15:21:57,014 - Starting thickness measurement (1to2)...\n",
      "2025-08-20 15:21:57,014 - Measuring thickness from surface 1 to surface 2...\n",
      "2025-08-20 15:21:57,015 - Starting GPU thickness measurement with 498069 points...\n",
      "2025-08-20 15:21:57,016 - Source points: 244604, Target points: 253465\n",
      "2025-08-20 15:21:57,016 - Max thickness: 8.0 nm (10.20 voxels)\n",
      "2025-08-20 15:21:57,016 - Max angle: 1.0 degrees\n",
      "2025-08-20 15:21:57,163 - Launching CUDA kernel with 1946 blocks and 256 threads per block...\n",
      "2025-08-20 15:21:57,426 - Retrieving results from GPU...\n",
      "2025-08-20 15:21:58,206 - Processing matches on CPU to ensure one-to-one matching...\n",
      "2025-08-20 15:22:04,097 - Found 221676 valid thickness measurements\n",
      "2025-08-20 15:22:04,100 - Mean thickness: 5.66 nm\n",
      "2025-08-20 15:22:04,104 - Min: 0.78 nm, Max: 8.00 nm\n",
      "2025-08-20 15:22:04,105 - Processing completed in 7.09 seconds\n",
      "2025-08-20 15:22:04,124 - Statistics saved to outputs/2738_z200to340_segmented_NE_thickness_stats.log\n",
      "2025-08-20 15:22:04,125 - \n",
      "Creating optimized thickness CSV with only valid measurements...\n",
      "2025-08-20 15:22:04,209 - Saving 221676 valid thickness measurements to outputs/2738_z200to340_segmented_NE_thickness.csv\n",
      "2025-08-20 15:22:09,096 - Thickness statistics:\n",
      "2025-08-20 15:22:09,097 -   Mean: 5.658 nm\n",
      "2025-08-20 15:22:09,098 -   Std:  0.688 nm\n",
      "2025-08-20 15:22:09,099 -   Min:  0.784 nm\n",
      "2025-08-20 15:22:09,099 -   Max:  7.995 nm\n",
      "2025-08-20 15:22:09,100 - Membrane thickness analysis complete!\n",
      "2025-08-20 15:22:09,104 - Thickness analysis for NE completed successfully\n",
      "2025-08-20 15:22:09,105 - \n",
      "Step 3: Processing intensity profiles for NE\n",
      "2025-08-20 15:22:09,105 - Validating segmentation and tomogram compatibility...\n",
      "2025-08-20 15:22:09,106 - Reading segmentation from inputs/2738_z200to340_segmented.mrc...\n",
      "2025-08-20 15:22:09,107 - Voxel size: 0.7840 nm\n",
      "2025-08-20 15:22:09,108 - Origin: (np.float32(0.0), np.float32(0.0), np.float32(0.0))\n",
      "2025-08-20 15:22:09,108 - Shape (ZYX): (141, 1024, 1024)\n",
      "2025-08-20 15:22:09,108 - Reading tomogram from inputs/2738_z200to340.mrc...\n",
      "2025-08-20 15:22:09,109 - Tomogram voxel size: 0.7840 nm\n",
      "2025-08-20 15:22:09,110 - Tomogram shape (ZYX): (141, 1024, 1024)\n",
      "2025-08-20 15:22:09,110 - ✓ Segmentation and tomogram are compatible\n",
      "2025-08-20 15:22:09,111 -   Dimensions: (141, 1024, 1024)\n",
      "2025-08-20 15:22:09,111 -   Voxel size: 0.7840 nm\n",
      "2025-08-20 15:22:09,112 - \n",
      "============================================================\n",
      "2025-08-20 15:22:09,112 - Processing: 2738_z200to340_segmented_NE_thickness.csv\n",
      "2025-08-20 15:22:09,113 - Tomogram: 2738_z200to340.mrc\n",
      "2025-08-20 15:22:09,113 - ============================================================\n",
      "2025-08-20 15:22:09,113 - Loading thickness data...\n",
      "2025-08-20 15:22:09,432 - Loading tomogram...\n",
      "2025-08-20 15:22:09,434 - Extracting intensity profiles...\n"
     ]
    },
    {
     "name": "stdout",
     "output_type": "stream",
     "text": [
      "Reading tomogram from inputs/2738_z200to340.mrc...\n",
      "Tomogram voxel size: 0.7840 nm\n",
      "Tomogram shape (ZYX): (141, 1024, 1024)\n",
      "Normalizing tomogram using method: zscore\n",
      "Extracting intensity profiles with extension of 8 voxels\n",
      "Including physical coordinates with voxel size: 0.7840 nm\n",
      "Processing 221676 valid coordinate pairs\n",
      "Extracting intensity values for 221676 profiles...\n"
     ]
    },
    {
     "name": "stderr",
     "output_type": "stream",
     "text": [
      "2025-08-20 15:22:18,466 - Extracted 221676 intensity profiles\n",
      "2025-08-20 15:22:18,467 - \n",
      "Filtering intensity profiles...\n",
      "2025-08-20 15:22:18,468 - === Statistics of the extracted intensity profiles ===\n"
     ]
    },
    {
     "name": "stdout",
     "output_type": "stream",
     "text": [
      "Successfully extracted 221676 intensity profiles\n"
     ]
    },
    {
     "name": "stderr",
     "output_type": "stream",
     "text": [
      "2025-08-20 15:22:49,836 - Step 1: Found 164795 candidate profiles\n",
      "2025-08-20 15:22:49,837 - Median separation: 4.87 ± 0.88 voxels\n",
      "2025-08-20 15:22:49,838 - Median prominence SNR: 4.1x\n",
      "2025-08-20 15:22:49,839 - \n",
      "=== Apply filtering criteria: (1) two minima (with user-defined SNR compared to baseline) separated by max; (2) the min are positioned between the two matched points from which thickness was measured ===\n",
      "2025-08-20 15:23:32,288 - Step 2: 200594/221676 profiles passed the filtering criteria (90.5%)\n",
      "2025-08-20 15:23:32,632 - \n",
      "Saving results to: outputs/\n"
     ]
    },
    {
     "name": "stdout",
     "output_type": "stream",
     "text": [
      "=== Summary of intensity profiles post filtering ===\n",
      "Total profiles analyzed: 221,676\n",
      "Candidate profiles found after step 1: 164,795\n",
      "Profiles that passed criteria: 200,594 (90.5%)\n",
      "Profiles excluded: 21,082 (9.5%)\n",
      "=== Characteristics of intensity profiles ===\n",
      "Median separation of minima: 4.87 ± 0.88 voxels\n",
      "Median SNR of minima: 4.1x (minima are 4.1x more pronounced than the baseline)\n",
      "=== Applied filtering criteria (user-defined) ===\n",
      "Required SNR of minima: 0.1x (minima must be 0.1x more pronounced than the baseline)\n",
      "Position filtering: Exact (no margin)\n",
      "Central max required: True\n",
      "Extension range from midpoint: (-8, 8) voxels\n",
      "=== Reasons for intensity profile exclusion ===\n",
      "  minima_outside_extended_region: 18,106 (8.2%)\n",
      "  insufficient_snr_min1: 2,923 (1.3%)\n",
      "  no_central_maximum: 39 (0.0%)\n",
      "  insufficient_snr_min0: 14 (0.0%)\n",
      "=== Quality metrics of included profiles ===\n",
      "Mean separation of minima: 4.91 ± 0.90 voxels\n",
      "  Median separation of minima: 4.87, Range: 1.85-13.44\n",
      "Mean SNR of minima: 4.1 ± 2.0x\n",
      "  Median SNR of minima: 3.7x, Q25-Q75: 2.7-5.0x\n",
      "  (Minima are on average 4.1x more pronounced than the baseline)\n",
      "Saved cleaned thickness DataFrame: outputs/2738_z200to340_segmented_NE_thickness_cleaned.csv\n",
      "Merging Pass 1 characterization feature data with 221676 profiles\n",
      "Available feature data entries: 221676\n",
      "  Profiles with feature data: 221676/221676\n",
      "  Profiles with minima positions: 164795/221676\n",
      "  Profiles with separation distance: 164795/221676\n",
      "  Profiles with SNR data: 164795/221676\n",
      "  Profiles with central max position: 0/221676\n",
      "Saved original intensity profiles with features: outputs/2738_z200to340_segmented_NE_int_profiles.pkl\n",
      "Mapping 200594 cleaned profiles to 200594 passing indices\n",
      "Merging Pass 2 filtering feature data with 200594 profiles\n",
      "Available feature data entries: 221676\n",
      "  Profiles with feature data: 200594/200594\n",
      "  Profiles with minima positions: 200594/200594\n",
      "  Profiles with separation distance: 200594/200594\n",
      "  Profiles with SNR data: 200594/200594\n",
      "  Profiles with central max position: 200594/200594\n",
      "Saved cleaned intensity profiles with features: outputs/2738_z200to340_segmented_NE_int_profiles_cleaned.pkl\n",
      "Saved statistics: outputs/2738_z200to340_segmented_NE_filtering_stats.txt\n"
     ]
    },
    {
     "name": "stderr",
     "output_type": "stream",
     "text": [
      "2025-08-20 15:24:02,925 - Intensity profiling for NE completed successfully\n",
      "2025-08-20 15:24:02,928 -   Profiles extracted: 221676\n",
      "2025-08-20 15:24:02,929 -   Profiles after filtering: 200594\n",
      "2025-08-20 15:24:02,931 -   Filter pass rate: 90.5%\n",
      "2025-08-20 15:24:02,931 - \n",
      "Processing thickness for OMM\n",
      "2025-08-20 15:24:02,933 - Reading segmentation from inputs/2738_z200to340_segmented.mrc...\n",
      "2025-08-20 15:24:02,934 - Voxel size: 0.7840 nm\n",
      "2025-08-20 15:24:02,935 - Origin: (np.float32(0.0), np.float32(0.0), np.float32(0.0))\n",
      "2025-08-20 15:24:02,936 - Shape (ZYX): (141, 1024, 1024)\n",
      "2025-08-20 15:24:02,937 - Loading data from outputs/2738_z200to340_segmented_OMM_vertices_normals.csv...\n",
      "2025-08-20 15:24:03,080 - CUDA GPU is available and will be used\n",
      "2025-08-20 15:24:03,081 - Starting thickness measurement (1to2)...\n",
      "2025-08-20 15:24:03,082 - Measuring thickness from surface 1 to surface 2...\n",
      "2025-08-20 15:24:03,083 - Starting GPU thickness measurement with 174727 points...\n",
      "2025-08-20 15:24:03,084 - Source points: 76865, Target points: 97862\n",
      "2025-08-20 15:24:03,085 - Max thickness: 8.0 nm (10.20 voxels)\n",
      "2025-08-20 15:24:03,085 - Max angle: 1.0 degrees\n",
      "2025-08-20 15:24:03,090 - Launching CUDA kernel with 683 blocks and 256 threads per block...\n",
      "2025-08-20 15:24:03,203 - Retrieving results from GPU...\n",
      "2025-08-20 15:24:03,206 - Processing matches on CPU to ensure one-to-one matching...\n",
      "2025-08-20 15:24:04,987 - Found 70793 valid thickness measurements\n",
      "2025-08-20 15:24:04,988 - Mean thickness: 4.63 nm\n",
      "2025-08-20 15:24:04,990 - Min: 0.78 nm, Max: 8.00 nm\n",
      "2025-08-20 15:24:04,991 - Processing completed in 1.91 seconds\n",
      "2025-08-20 15:24:04,999 - Statistics saved to outputs/2738_z200to340_segmented_OMM_thickness_stats.log\n",
      "2025-08-20 15:24:05,000 - \n",
      "Creating optimized thickness CSV with only valid measurements...\n",
      "2025-08-20 15:24:05,029 - Saving 70793 valid thickness measurements to outputs/2738_z200to340_segmented_OMM_thickness.csv\n",
      "2025-08-20 15:24:06,610 - Thickness statistics:\n",
      "2025-08-20 15:24:06,612 -   Mean: 4.632 nm\n",
      "2025-08-20 15:24:06,613 -   Std:  0.768 nm\n",
      "2025-08-20 15:24:06,614 -   Min:  0.784 nm\n",
      "2025-08-20 15:24:06,615 -   Max:  7.995 nm\n",
      "2025-08-20 15:24:06,615 - Membrane thickness analysis complete!\n",
      "2025-08-20 15:24:06,616 - Thickness analysis for OMM completed successfully\n",
      "2025-08-20 15:24:06,617 - \n",
      "Step 3: Processing intensity profiles for OMM\n",
      "2025-08-20 15:24:06,618 - Validating segmentation and tomogram compatibility...\n",
      "2025-08-20 15:24:06,618 - Reading segmentation from inputs/2738_z200to340_segmented.mrc...\n",
      "2025-08-20 15:24:06,620 - Voxel size: 0.7840 nm\n",
      "2025-08-20 15:24:06,621 - Origin: (np.float32(0.0), np.float32(0.0), np.float32(0.0))\n",
      "2025-08-20 15:24:06,621 - Shape (ZYX): (141, 1024, 1024)\n",
      "2025-08-20 15:24:06,622 - Reading tomogram from inputs/2738_z200to340.mrc...\n",
      "2025-08-20 15:24:06,623 - Tomogram voxel size: 0.7840 nm\n",
      "2025-08-20 15:24:06,624 - Tomogram shape (ZYX): (141, 1024, 1024)\n",
      "2025-08-20 15:24:06,625 - ✓ Segmentation and tomogram are compatible\n",
      "2025-08-20 15:24:06,626 -   Dimensions: (141, 1024, 1024)\n",
      "2025-08-20 15:24:06,626 -   Voxel size: 0.7840 nm\n",
      "2025-08-20 15:24:06,627 - \n",
      "============================================================\n",
      "2025-08-20 15:24:06,628 - Processing: 2738_z200to340_segmented_OMM_thickness.csv\n",
      "2025-08-20 15:24:06,629 - Tomogram: 2738_z200to340.mrc\n",
      "2025-08-20 15:24:06,629 - ============================================================\n",
      "2025-08-20 15:24:06,630 - Loading thickness data...\n",
      "2025-08-20 15:24:06,736 - Loading tomogram...\n",
      "2025-08-20 15:24:06,738 - Extracting intensity profiles...\n"
     ]
    },
    {
     "name": "stdout",
     "output_type": "stream",
     "text": [
      "Reading tomogram from inputs/2738_z200to340.mrc...\n",
      "Tomogram voxel size: 0.7840 nm\n",
      "Tomogram shape (ZYX): (141, 1024, 1024)\n",
      "Normalizing tomogram using method: zscore\n",
      "Extracting intensity profiles with extension of 8 voxels\n",
      "Including physical coordinates with voxel size: 0.7840 nm\n",
      "Processing 70793 valid coordinate pairs\n",
      "Extracting intensity values for 70793 profiles...\n"
     ]
    },
    {
     "name": "stderr",
     "output_type": "stream",
     "text": [
      "2025-08-20 15:24:10,055 - Extracted 70793 intensity profiles\n",
      "2025-08-20 15:24:10,056 - \n",
      "Filtering intensity profiles...\n",
      "2025-08-20 15:24:10,057 - === Statistics of the extracted intensity profiles ===\n"
     ]
    },
    {
     "name": "stdout",
     "output_type": "stream",
     "text": [
      "Successfully extracted 70793 intensity profiles\n"
     ]
    },
    {
     "name": "stderr",
     "output_type": "stream",
     "text": [
      "2025-08-20 15:24:19,103 - Step 1: Found 25887 candidate profiles\n",
      "2025-08-20 15:24:19,104 - Median separation: 5.09 ± 1.45 voxels\n",
      "2025-08-20 15:24:19,105 - Median prominence SNR: 3.8x\n",
      "2025-08-20 15:24:19,106 - \n",
      "=== Apply filtering criteria: (1) two minima (with user-defined SNR compared to baseline) separated by max; (2) the min are positioned between the two matched points from which thickness was measured ===\n",
      "2025-08-20 15:24:32,248 - Step 2: 36971/70793 profiles passed the filtering criteria (52.2%)\n",
      "2025-08-20 15:24:32,343 - \n",
      "Saving results to: outputs/\n"
     ]
    },
    {
     "name": "stdout",
     "output_type": "stream",
     "text": [
      "=== Summary of intensity profiles post filtering ===\n",
      "Total profiles analyzed: 70,793\n",
      "Candidate profiles found after step 1: 25,887\n",
      "Profiles that passed criteria: 36,971 (52.2%)\n",
      "Profiles excluded: 33,822 (47.8%)\n",
      "=== Characteristics of intensity profiles ===\n",
      "Median separation of minima: 5.09 ± 1.45 voxels\n",
      "Median SNR of minima: 3.8x (minima are 3.8x more pronounced than the baseline)\n",
      "=== Applied filtering criteria (user-defined) ===\n",
      "Required SNR of minima: 0.1x (minima must be 0.1x more pronounced than the baseline)\n",
      "Position filtering: Exact (no margin)\n",
      "Central max required: True\n",
      "Extension range from midpoint: (-8, 8) voxels\n",
      "=== Reasons for intensity profile exclusion ===\n",
      "  minima_outside_extended_region: 27,250 (38.5%)\n",
      "  insufficient_snr_min1: 6,352 (9.0%)\n",
      "  no_central_maximum: 168 (0.2%)\n",
      "  insufficient_snr_min0: 47 (0.1%)\n",
      "  zero_baseline_noise: 5 (0.0%)\n",
      "=== Quality metrics of included profiles ===\n",
      "Mean separation of minima: 4.79 ± 1.26 voxels\n",
      "  Median separation of minima: 4.67, Range: 1.85-14.77\n",
      "Mean SNR of minima: 3.3 ± 2.1x\n",
      "  Median SNR of minima: 2.9x, Q25-Q75: 2.0-4.1x\n",
      "  (Minima are on average 3.3x more pronounced than the baseline)\n",
      "Saved cleaned thickness DataFrame: outputs/2738_z200to340_segmented_OMM_thickness_cleaned.csv\n",
      "Merging Pass 1 characterization feature data with 70793 profiles\n",
      "Available feature data entries: 70793\n",
      "  Profiles with feature data: 70793/70793\n",
      "  Profiles with minima positions: 25887/70793\n",
      "  Profiles with separation distance: 25887/70793\n",
      "  Profiles with SNR data: 25887/70793\n",
      "  Profiles with central max position: 0/70793\n",
      "Saved original intensity profiles with features: outputs/2738_z200to340_segmented_OMM_int_profiles.pkl\n",
      "Mapping 36971 cleaned profiles to 36971 passing indices\n",
      "Merging Pass 2 filtering feature data with 36971 profiles\n",
      "Available feature data entries: 70793\n",
      "  Profiles with feature data: 36971/36971\n",
      "  Profiles with minima positions: 36971/36971\n",
      "  Profiles with separation distance: 36971/36971\n",
      "  Profiles with SNR data: 36971/36971\n",
      "  Profiles with central max position: 36971/36971\n"
     ]
    },
    {
     "name": "stderr",
     "output_type": "stream",
     "text": [
      "2025-08-20 15:24:38,930 - Intensity profiling for OMM completed successfully\n",
      "2025-08-20 15:24:38,933 -   Profiles extracted: 70793\n",
      "2025-08-20 15:24:38,935 -   Profiles after filtering: 36971\n",
      "2025-08-20 15:24:38,937 -   Filter pass rate: 52.2%\n",
      "2025-08-20 15:24:38,938 - \n",
      "Processing thickness for IMM\n",
      "2025-08-20 15:24:38,939 - Reading segmentation from inputs/2738_z200to340_segmented.mrc...\n",
      "2025-08-20 15:24:38,941 - Voxel size: 0.7840 nm\n",
      "2025-08-20 15:24:38,942 - Origin: (np.float32(0.0), np.float32(0.0), np.float32(0.0))\n",
      "2025-08-20 15:24:38,942 - Shape (ZYX): (141, 1024, 1024)\n",
      "2025-08-20 15:24:38,943 - Loading data from outputs/2738_z200to340_segmented_IMM_vertices_normals.csv...\n"
     ]
    },
    {
     "name": "stdout",
     "output_type": "stream",
     "text": [
      "Saved cleaned intensity profiles with features: outputs/2738_z200to340_segmented_OMM_int_profiles_cleaned.pkl\n",
      "Saved statistics: outputs/2738_z200to340_segmented_OMM_filtering_stats.txt\n"
     ]
    },
    {
     "name": "stderr",
     "output_type": "stream",
     "text": [
      "2025-08-20 15:24:39,256 - CUDA GPU is available and will be used\n",
      "2025-08-20 15:24:39,256 - Starting thickness measurement (1to2)...\n",
      "2025-08-20 15:24:39,257 - Measuring thickness from surface 1 to surface 2...\n",
      "2025-08-20 15:24:39,258 - Starting GPU thickness measurement with 314937 points...\n",
      "2025-08-20 15:24:39,259 - Source points: 139731, Target points: 175206\n",
      "2025-08-20 15:24:39,260 - Max thickness: 8.0 nm (10.20 voxels)\n",
      "2025-08-20 15:24:39,260 - Max angle: 1.0 degrees\n",
      "2025-08-20 15:24:39,269 - Launching CUDA kernel with 1231 blocks and 256 threads per block...\n",
      "2025-08-20 15:24:39,273 - Retrieving results from GPU...\n",
      "2025-08-20 15:24:39,601 - Processing matches on CPU to ensure one-to-one matching...\n",
      "2025-08-20 15:24:42,692 - Found 112416 valid thickness measurements\n",
      "2025-08-20 15:24:42,695 - Mean thickness: 4.84 nm\n",
      "2025-08-20 15:24:42,697 - Min: 0.78 nm, Max: 8.00 nm\n",
      "2025-08-20 15:24:42,698 - Processing completed in 3.44 seconds\n",
      "2025-08-20 15:24:42,710 - Statistics saved to outputs/2738_z200to340_segmented_IMM_thickness_stats.log\n",
      "2025-08-20 15:24:42,711 - \n",
      "Creating optimized thickness CSV with only valid measurements...\n",
      "2025-08-20 15:24:42,756 - Saving 112416 valid thickness measurements to outputs/2738_z200to340_segmented_IMM_thickness.csv\n",
      "2025-08-20 15:24:45,247 - Thickness statistics:\n",
      "2025-08-20 15:24:45,249 -   Mean: 4.845 nm\n",
      "2025-08-20 15:24:45,250 -   Std:  1.003 nm\n",
      "2025-08-20 15:24:45,251 -   Min:  0.784 nm\n",
      "2025-08-20 15:24:45,252 -   Max:  7.995 nm\n",
      "2025-08-20 15:24:45,253 - Membrane thickness analysis complete!\n",
      "2025-08-20 15:24:45,254 - Thickness analysis for IMM completed successfully\n",
      "2025-08-20 15:24:45,255 - \n",
      "Step 3: Processing intensity profiles for IMM\n",
      "2025-08-20 15:24:45,255 - Validating segmentation and tomogram compatibility...\n",
      "2025-08-20 15:24:45,256 - Reading segmentation from inputs/2738_z200to340_segmented.mrc...\n",
      "2025-08-20 15:24:45,258 - Voxel size: 0.7840 nm\n",
      "2025-08-20 15:24:45,258 - Origin: (np.float32(0.0), np.float32(0.0), np.float32(0.0))\n",
      "2025-08-20 15:24:45,259 - Shape (ZYX): (141, 1024, 1024)\n",
      "2025-08-20 15:24:45,260 - Reading tomogram from inputs/2738_z200to340.mrc...\n",
      "2025-08-20 15:24:45,261 - Tomogram voxel size: 0.7840 nm\n",
      "2025-08-20 15:24:45,262 - Tomogram shape (ZYX): (141, 1024, 1024)\n",
      "2025-08-20 15:24:45,263 - ✓ Segmentation and tomogram are compatible\n",
      "2025-08-20 15:24:45,264 -   Dimensions: (141, 1024, 1024)\n",
      "2025-08-20 15:24:45,264 -   Voxel size: 0.7840 nm\n",
      "2025-08-20 15:24:45,265 - \n",
      "============================================================\n",
      "2025-08-20 15:24:45,266 - Processing: 2738_z200to340_segmented_IMM_thickness.csv\n",
      "2025-08-20 15:24:45,267 - Tomogram: 2738_z200to340.mrc\n",
      "2025-08-20 15:24:45,267 - ============================================================\n",
      "2025-08-20 15:24:45,268 - Loading thickness data...\n",
      "2025-08-20 15:24:45,438 - Loading tomogram...\n",
      "2025-08-20 15:24:45,440 - Extracting intensity profiles...\n"
     ]
    },
    {
     "name": "stdout",
     "output_type": "stream",
     "text": [
      "Reading tomogram from inputs/2738_z200to340.mrc...\n",
      "Tomogram voxel size: 0.7840 nm\n",
      "Tomogram shape (ZYX): (141, 1024, 1024)\n",
      "Normalizing tomogram using method: zscore\n",
      "Extracting intensity profiles with extension of 8 voxels\n",
      "Including physical coordinates with voxel size: 0.7840 nm\n",
      "Processing 112416 valid coordinate pairs\n",
      "Extracting intensity values for 112416 profiles...\n"
     ]
    },
    {
     "name": "stderr",
     "output_type": "stream",
     "text": [
      "2025-08-20 15:24:50,298 - Extracted 112416 intensity profiles\n",
      "2025-08-20 15:24:50,299 - \n",
      "Filtering intensity profiles...\n",
      "2025-08-20 15:24:50,299 - === Statistics of the extracted intensity profiles ===\n"
     ]
    },
    {
     "name": "stdout",
     "output_type": "stream",
     "text": [
      "Successfully extracted 112416 intensity profiles\n"
     ]
    },
    {
     "name": "stderr",
     "output_type": "stream",
     "text": [
      "2025-08-20 15:25:05,344 - Step 1: Found 48030 candidate profiles\n",
      "2025-08-20 15:25:05,345 - Median separation: 5.09 ± 1.46 voxels\n",
      "2025-08-20 15:25:05,345 - Median prominence SNR: 3.7x\n",
      "2025-08-20 15:25:05,346 - \n",
      "=== Apply filtering criteria: (1) two minima (with user-defined SNR compared to baseline) separated by max; (2) the min are positioned between the two matched points from which thickness was measured ===\n",
      "2025-08-20 15:25:25,941 - Step 2: 68312/112416 profiles passed the filtering criteria (60.8%)\n",
      "2025-08-20 15:25:26,124 - \n",
      "Saving results to: outputs/\n"
     ]
    },
    {
     "name": "stdout",
     "output_type": "stream",
     "text": [
      "=== Summary of intensity profiles post filtering ===\n",
      "Total profiles analyzed: 112,416\n",
      "Candidate profiles found after step 1: 48,030\n",
      "Profiles that passed criteria: 68,312 (60.8%)\n",
      "Profiles excluded: 44,104 (39.2%)\n",
      "=== Characteristics of intensity profiles ===\n",
      "Median separation of minima: 5.09 ± 1.46 voxels\n",
      "Median SNR of minima: 3.7x (minima are 3.7x more pronounced than the baseline)\n",
      "=== Applied filtering criteria (user-defined) ===\n",
      "Required SNR of minima: 0.1x (minima must be 0.1x more pronounced than the baseline)\n",
      "Position filtering: Exact (no margin)\n",
      "Central max required: True\n",
      "Extension range from midpoint: (-8, 8) voxels\n",
      "=== Reasons for intensity profile exclusion ===\n",
      "  minima_outside_extended_region: 35,914 (31.9%)\n",
      "  insufficient_snr_min1: 7,814 (7.0%)\n",
      "  insufficient_snr_min0: 68 (0.1%)\n",
      "  no_central_maximum: 304 (0.3%)\n",
      "  zero_baseline_noise: 4 (0.0%)\n",
      "=== Quality metrics of included profiles ===\n",
      "Mean separation of minima: 5.01 ± 1.34 voxels\n",
      "  Median separation of minima: 4.87, Range: 1.85-13.54\n",
      "Mean SNR of minima: 1249123095870.3 ± 124997031408531.8x\n",
      "  Median SNR of minima: 3.0x, Q25-Q75: 2.0-4.2x\n",
      "  (Minima are on average 1249123095870.3x more pronounced than the baseline)\n",
      "Saved cleaned thickness DataFrame: outputs/2738_z200to340_segmented_IMM_thickness_cleaned.csv\n",
      "Merging Pass 1 characterization feature data with 112416 profiles\n",
      "Available feature data entries: 112416\n",
      "  Profiles with feature data: 112416/112416\n",
      "  Profiles with minima positions: 48030/112416\n",
      "  Profiles with separation distance: 48030/112416\n",
      "  Profiles with SNR data: 48030/112416\n",
      "  Profiles with central max position: 0/112416\n",
      "Saved original intensity profiles with features: outputs/2738_z200to340_segmented_IMM_int_profiles.pkl\n",
      "Mapping 68312 cleaned profiles to 68312 passing indices\n",
      "Merging Pass 2 filtering feature data with 68312 profiles\n",
      "Available feature data entries: 112416\n",
      "  Profiles with feature data: 68312/68312\n",
      "  Profiles with minima positions: 68312/68312\n",
      "  Profiles with separation distance: 68312/68312\n",
      "  Profiles with SNR data: 68312/68312\n",
      "  Profiles with central max position: 68312/68312\n"
     ]
    },
    {
     "name": "stderr",
     "output_type": "stream",
     "text": [
      "2025-08-20 15:25:38,375 - Intensity profiling for IMM completed successfully\n",
      "2025-08-20 15:25:38,377 -   Profiles extracted: 112416\n",
      "2025-08-20 15:25:38,379 -   Profiles after filtering: 68312\n",
      "2025-08-20 15:25:38,380 -   Filter pass rate: 60.8%\n",
      "2025-08-20 15:25:38,381 - \n",
      "Full pipeline completed!\n",
      "2025-08-20 15:25:38,383 - \n",
      "=== Intensity Profiling Summary ===\n",
      "2025-08-20 15:25:38,384 - NE: ✓ Completed - 200594 profiles passed filtering\n",
      "2025-08-20 15:25:38,385 - OMM: ✓ Completed - 36971 profiles passed filtering\n",
      "2025-08-20 15:25:38,386 - IMM: ✓ Completed - 68312 profiles passed filtering\n"
     ]
    },
    {
     "name": "stdout",
     "output_type": "stream",
     "text": [
      "Saved cleaned intensity profiles with features: outputs/2738_z200to340_segmented_IMM_int_profiles_cleaned.pkl\n",
      "Saved statistics: outputs/2738_z200to340_segmented_IMM_filtering_stats.txt\n"
     ]
    }
   ],
   "source": [
    "# GPU-accelerated full pipeline with intensity profiling\n",
    "results = memthick.run_full_pipeline(\n",
    "    segmentation_path=segmentation_path,\n",
    "    output_dir=output_dir,\n",
    "    config_path=config_path,  # or membrane_labels=membrane_labels\n",
    "    \n",
    "    # Surface processing\n",
    "    interpolate=True,\n",
    "    interpolation_points=1,\n",
    "    refine_normals=True,\n",
    "    flip_normals=True,\n",
    "    \n",
    "    # Thickness measurement  \n",
    "    max_thickness=8.0,\n",
    "    max_angle=1.0,\n",
    "    direction='1to2',\n",
    "    use_gpu=True,\n",
    "    \n",
    "    # Intensity profiling (recommended)\n",
    "    extract_intensity_profiles=True,\n",
    "    tomo_path=tomo_path,\n",
    "    intensity_extension_voxels=8,\n",
    "    intensity_extension_range=(-8, 8),\n",
    "    intensity_min_snr=0.1,\n",
    "    intensity_margin_factor=0.3,  # 30% tolerance for minima positions extending outward from the paired point positions\n",
    "    intensity_central_max_required=True,\n",
    "    intensity_require_both_minima=True,\n",
    "    \n",
    "    # Optional outputs\n",
    "    save_vertices_mrc=False,\n",
    "    save_thickness_mrc=False\n",
    ")\n"
   ]
  },
  {
   "cell_type": "code",
   "execution_count": null,
   "id": "9feedb9f",
   "metadata": {},
   "outputs": [],
   "source": [
    "# Check results\n",
    "for membrane_name, result in results.items():\n",
    "    print(f\"{membrane_name}:\")\n",
    "    print(f\"  Thickness CSV: {result['thickness_csv']}\")\n",
    "    if 'intensity_results' in result:\n",
    "        int_result = result['intensity_results']\n",
    "        print(f\"  Profiles filtered: {int_result['profiles_filtered']}\")\n",
    "        print(f\"  Pass rate: {int_result['pass_rate']:.1%}\")\n",
    "    print()"
   ]
  },
  {
   "cell_type": "markdown",
   "id": "ddc4dbfa",
   "metadata": {},
   "source": [
    "### 2. CPU-Only Processing\n",
    "\n",
    "For systems without GPU or when CPU parallelization is preferred (parallelization affects only the thickness measurement step; surface extraction and intensity profiling run on single CPU regardless):"
   ]
  },
  {
   "cell_type": "code",
   "execution_count": null,
   "id": "5924482b",
   "metadata": {},
   "outputs": [],
   "source": [
    "# CPU-parallelized processing\n",
    "results_cpu = memthick.run_full_pipeline(\n",
    "    segmentation_path=segmentation_path,\n",
    "    output_dir=output_dir,\n",
    "    membrane_labels=membrane_labels,\n",
    "    \n",
    "    # Processing options\n",
    "    use_gpu=False,\n",
    "    num_cpu_threads=8,  # Adjust for your system\n",
    "    batch_size=1000,    # Can be adjusted if memory is an issue but I normally go with 2000\n",
    "\n",
    "    # Surface processing\n",
    "    interpolate=True,\n",
    "    interpolation_points=1,\n",
    "    refine_normals=True,\n",
    "    flip_normals=True,\n",
    "    \n",
    "    # Thickness measurement  \n",
    "    max_thickness=8.0,\n",
    "    max_angle=1.0,\n",
    "    \n",
    "    # Intensity profiling (recommended)\n",
    "    extract_intensity_profiles=True,\n",
    "    tomo_path=tomo_path,\n",
    "    intensity_extension_voxels=8,\n",
    "    intensity_extension_range=(-8, 8),\n",
    "    intensity_min_snr=0.1,\n",
    "    intensity_margin_factor=0.3,  # 30% tolerance\n",
    "    intensity_central_max_required=True,\n",
    "    intensity_require_both_minima=True,\n",
    "    \n",
    "    # Optional outputs\n",
    "    save_vertices_mrc=False,\n",
    "    save_thickness_mrc=False\n",
    ")"
   ]
  },
  {
   "cell_type": "markdown",
   "id": "e9843e7c",
   "metadata": {},
   "source": [
    "### 3. Staged Processing\n",
    "\n",
    "Run the pipeline in separate stages:\n",
    "\n",
    "#### Stage 1: Surface Extraction"
   ]
  },
  {
   "cell_type": "code",
   "execution_count": null,
   "id": "7d4355bb",
   "metadata": {},
   "outputs": [],
   "source": [
    "surface_results = memthick.process_membrane_segmentation(\n",
    "    segmentation_path=segmentation_path,\n",
    "    output_dir=output_dir,\n",
    "    membrane_labels=membrane_labels,\n",
    "    interpolate=True,\n",
    "    interpolation_points=1,\n",
    "    refine_normals=True,\n",
    "    flip_normals=True,\n",
    "    radius_hit=10.0\n",
    ")\n",
    "\n",
    "print(\"Surface extraction completed:\")\n",
    "for membrane, csv_path in surface_results.items():\n",
    "    print(f\"  {membrane}: {csv_path}\")"
   ]
  },
  {
   "cell_type": "markdown",
   "id": "059ddcf7",
   "metadata": {},
   "source": [
    "#### Stage 2: Thickness Measurement"
   ]
  },
  {
   "cell_type": "code",
   "execution_count": null,
   "id": "2e0f6f55",
   "metadata": {},
   "outputs": [],
   "source": [
    "# Measure thickness from pre-processed surfaces\n",
    "for membrane_name in ['NE', 'OMM', 'IMM']:\n",
    "    vertices_csv = f'outputs/2738_z200to340_segmented_{membrane_name}_vertices_normals.csv'\n",
    "    \n",
    "    thickness_csv, stats_file = memthick.measure_membrane_thickness(\n",
    "        segmentation_path=segmentation_path,\n",
    "        input_csv=vertices_csv,\n",
    "        output_dir=output_dir,\n",
    "        max_thickness=8.0,\n",
    "        max_angle=1.0,\n",
    "        direction='1to2',\n",
    "        use_gpu=True\n",
    "    )\n",
    "    \n",
    "    print(f\"{membrane_name} thickness: {thickness_csv}\")"
   ]
  },
  {
   "cell_type": "markdown",
   "id": "932c58b4",
   "metadata": {},
   "source": [
    "#### Stage 3: Intensity Profile Analysis - Building Intuition\n",
    "\n",
    "- The input tomogram can be normalized using several methods (controlled by `intensity_normalize_method`):\n",
    "  - `'zscore'`: Standardize to zero mean and unit variance (recommended)\n",
    "  - `'minmax'`: Scale to range [0, 1]\n",
    "  - `'percentile'`: Clip to 1st-99th percentile range\n",
    "  - `'none'`: Use original intensity values\n",
    "- Intensity profiles are extracted along lines connecting paired surface points.\n",
    "- Profiles are extracted with a pre-set extension range from the measurement midpoint. It's important not to extend them too far, otherwise other structures might be detected (e.g., membrane-bound ribosomes), which could confound peak detection. Controlled by `intensity_extension_voxels` (recommended: 8-15) and `intensity_extension_range` (recommended: (-8, 8) to (-15, 15)).\n",
    "- Profiles can be Gaussian-smoothed if needed to reduce noise (controlled by `intensity_smooth_sigma`, where 0=no smoothing).\n",
    "- The detected profile features serve as quality criteria for filtering thickness measurements.\n",
    "\n",
    "##### Detected Profile Features\n",
    "- **Dual Minima**: Represent lipid headgroups (hydrophilic regions) - enable with `intensity_require_both_minima=True`\n",
    "- **Central Maximum**: Represents lipid tails (hydrophobic core) - enable with `intensity_central_max_required=True`\n",
    "- **Baseline**: Calculated from profile edges for SNR estimation - controlled by `intensity_edge_fraction` (recommended: 0.1-0.3)\n",
    "\n",
    "##### Further Quality Criteria\n",
    "1. **Signal-to-Noise Ratio**: Minima prominence relative to baseline noise - controlled by `intensity_min_snr` (recommended: 0.1-2.0)\n",
    "2. **Minima Positioning**: Minima positioned between or near the matched measurement points - controlled by `intensity_margin_factor` (recommended: 0.0-0.3, allowing minima to extend slightly beyond measurement points for curved membranes)\n"
   ]
  },
  {
   "cell_type": "code",
   "execution_count": null,
   "id": "8d61d3be",
   "metadata": {},
   "outputs": [],
   "source": [
    "# Apply intensity-based filtering to existing measurements\n",
    "for membrane_name in ['NE', 'OMM', 'IMM']:\n",
    "    thickness_csv = f'outputs/2738_z200to340_segmented_{membrane_name}_thickness.csv'\n",
    "    \n",
    "    filter_results = memthick.int_profiles_extract_clean(\n",
    "        thickness_csv=thickness_csv,\n",
    "        tomo_path=tomo_path,\n",
    "        output_dir=output_dir,\n",
    "        \n",
    "        # Profile extraction\n",
    "        intensity_extension_voxels=8,\n",
    "        intensity_extension_range=(-8, ),\n",
    "        intensity_normalize_method='zscore',\n",
    "        \n",
    "        # Quality filtering\n",
    "        intensity_min_snr=0.1,\n",
    "        intensity_central_max_required=True,\n",
    "        intensity_require_both_minima=True,\n",
    "        intensity_margin_factor=0.2,\n",
    "        \n",
    "        # Smoothing of the profiles\n",
    "        intensity_smooth_sigma=0.0,  # Personally, would not smooth\n",
    "        \n",
    "        # Outputs\n",
    "        save_cleaned_df=True,\n",
    "        save_profiles=True,\n",
    "        save_statistics=True\n",
    "    )\n",
    "    \n",
    "    print(f\"{membrane_name} intensity filtering completed\")\n",
    "    print(f\"  Profiles passed: {filter_results['statistics']['profiles_passed']}\")\n",
    "    print(f\"  Pass rate: {filter_results['statistics']['pass_rate']:.1%}\")"
   ]
  },
  {
   "cell_type": "markdown",
   "id": "2bafb12e",
   "metadata": {},
   "source": [
    "## Command Line Interface\n",
    "\n",
    "Navigate to the `/cryocat/` folder and locate `memthick.py`.\n",
    "\n",
    "### Run Full Pipeline\n",
    "\n",
    "```bash\n",
    "# Full pipeline with intensity profiling (recommended)\n",
    "python memthick.py \\\n",
    "    segmentation.mrc \\\n",
    "    --mode full \\\n",
    "    --output_dir /path/to/output/\n",
    "    --membrane_labels NE:1,OMM:2,IMM:3 \\\n",
    "    --interpolate \\\n",
    "    --interpolation_points 1 \\\n",
    "    --extract_intensity \\\n",
    "    --tomo_path tomogram.mrc \\\n",
    "    --max_thickness 8.0 \\\n",
    "    --max_angle 1.0 \\\n",
    "    --intensity_min_snr 0.5 \\\n",
    "    --intensity_margin_factor 0.2 \\\n",
    "    --intensity_central_max_required \\\n",
    "    --intensity_require_both_minima\n",
    "```\n",
    "### Run Separate Pipeline Steps\n",
    "\n",
    "#### Surface Extraction\n",
    "```bash\n",
    "python memthick.py \\\n",
    "    segmentation.mrc \\\n",
    "    --mode surface \\\n",
    "    --membrane_labels NE:1,ER:2 \\\n",
    "    --output_dir /path/to/output/\n",
    "```\n",
    "\n",
    "#### Thickness Measurement\n",
    "```bash\n",
    "# Requires pre-existing vertices_normals.csv from surface extraction\n",
    "python memthick.py \\\n",
    "    segmentation.mrc \\\n",
    "    --mode thickness \\\n",
    "    --input_csv vertices_normals.csv \\\n",
    "    --max_thickness 8.0 \\\n",
    "    --use_gpu\n",
    "```\n",
    "\n",
    "#### Filter Thickness Results\n",
    "```bash\n",
    "# Requires pre-existing thickness.csv and tomogram\n",
    "python memthick.py \\\n",
    "    segmentation.mrc \\\n",
    "    --mode intensity \\\n",
    "    --thickness_csv thickness.csv \\\n",
    "    --tomo_path tomogram.mrc \\\n",
    "    --intensity_min_snr 0.5 \\\n",
    "    --intensity_margin_factor 0.2 \\\n",
    "    --intensity_central_max_required \\\n",
    "    --intensity_require_both_minima\n",
    "```\n",
    "\n",
    "### CLI Parameter Reference\n",
    "\n",
    "#### Required Parameters\n",
    "- `segmentation_path`: Input segmentation file (positional argument)\n",
    "- `--mode`: Pipeline mode (`full`, `surface`, `thickness`, `intensity`)\n",
    "\n",
    "#### Common Options\n",
    "- `--output_dir`: Output directory (default: same as input file)\n",
    "- `--membrane_labels`: Comma-separated label mapping (e.g., `NE:1,ER:2`)\n",
    "- `--config_path`: YAML configuration file (alternative to --membrane_labels)\n",
    "- `--max_thickness`: Maximum thickness in nm (default: 8.0)\n",
    "- `--max_angle`: Maximum cone angle in degrees (default: 1.0)\n",
    "- `--use_gpu` / `--use_cpu`: Processing mode (default: GPU if available)\n",
    "\n",
    "#### Intensity Profiling Options\n",
    "- `--extract_intensity`: Enable intensity profiling (flag)\n",
    "- `--tomo_path`: Tomogram file path (required for intensity modes)\n",
    "- `--intensity_min_snr`: Minimum signal-to-noise ratio (default: 1.0)\n",
    "- `--intensity_margin_factor`: Position tolerance, 0.0-0.3 (default: 0.1)\n",
    "- `--intensity_central_max_required`: Require central maximum (flag)\n",
    "- `--intensity_require_both_minima`: Require both minima (flag)"
   ]
  },
  {
   "cell_type": "markdown",
   "id": "42438129",
   "metadata": {},
   "source": [
    "## Results Analysis\n",
    "\n",
    "### 1. Load Data"
   ]
  },
  {
   "cell_type": "markdown",
   "id": "ed4fb93f",
   "metadata": {},
   "source": [
    "Outputs are uploaded [here](https://oc.biophys.mpg.de/owncloud/s/GBj4j9BcpjdfWJf)"
   ]
  },
  {
   "cell_type": "code",
   "execution_count": 2,
   "id": "c3572cb6",
   "metadata": {},
   "outputs": [],
   "source": [
    "NE_thickness_csv = 'outputs/2738_z200to340_segmented_NE_thickness_cleaned.csv'\n",
    "NE_profiles = 'outputs/2738_z200to340_segmented_NE_int_profiles_cleaned.pkl'\n",
    "NE_profiles_nonfiltered = 'outputs/2738_z200to340_segmented_NE_int_profiles.pkl'\n",
    "\n",
    "IMM_thickness_csv = 'outputs/2738_z200to340_segmented_IMM_thickness_cleaned.csv'\n",
    "IMM_profiles = 'outputs/2738_z200to340_segmented_IMM_int_profiles_cleaned.pkl'\n",
    "IMM_profiles_nonfiltered = 'outputs/2738_z200to340_segmented_IMM_int_profiles.pkl'\n",
    "\n",
    "OMM_thickness_csv = 'outputs/2738_z200to340_segmented_OMM_thickness_cleaned.csv'\n",
    "OMM_profiles = 'outputs/2738_z200to340_segmented_OMM_int_profiles_cleaned.pkl'\n",
    "OMM_profiles_nonfiltered = 'outputs/2738_z200to340_segmented_OMM_int_profiles.pkl'"
   ]
  },
  {
   "cell_type": "code",
   "execution_count": 5,
   "id": "e956a722",
   "metadata": {},
   "outputs": [
    {
     "name": "stdout",
     "output_type": "stream",
     "text": [
      "Loaded 200594 intensity profiles from outputs/2738_z200to340_segmented_NE_int_profiles_cleaned.pkl\n",
      "Loaded 68312 intensity profiles from outputs/2738_z200to340_segmented_IMM_int_profiles_cleaned.pkl\n",
      "Loaded 36971 intensity profiles from outputs/2738_z200to340_segmented_OMM_int_profiles_cleaned.pkl\n"
     ]
    }
   ],
   "source": [
    "# Load thickness files and profiles\n",
    "\n",
    "NE_data = maple.load_membrane_data(thickness_csv=NE_thickness_csv, intensity_profiles_pkl=NE_profiles)\n",
    "IMM_data = maple.load_membrane_data(thickness_csv=IMM_thickness_csv, intensity_profiles_pkl=IMM_profiles)\n",
    "OMM_data = maple.load_membrane_data(thickness_csv=OMM_thickness_csv, intensity_profiles_pkl=OMM_profiles)"
   ]
  },
  {
   "cell_type": "code",
   "execution_count": 6,
   "id": "43884603",
   "metadata": {},
   "outputs": [
    {
     "name": "stdout",
     "output_type": "stream",
     "text": [
      "Data Summary:\n",
      "NE: {'n_thickness_measurements': 200594, 'n_intensity_profiles': 200594, 'thickness_range': (np.float64(1.9204001), np.float64(7.995263)), 'thickness_mean': np.float64(5.715790260377678), 'thickness_std': np.float64(0.6439476034645089), 'coordinate_columns': ['x1_voxel', 'y1_voxel', 'z1_voxel'], 'has_profiles': True}\n",
      "IMM: {'n_thickness_measurements': 68312, 'n_intensity_profiles': 68312, 'thickness_range': (np.float64(1.7530774), np.float64(7.995263)), 'thickness_mean': np.float64(5.205129820914334), 'thickness_std': np.float64(0.8863175161109151), 'coordinate_columns': ['x1_voxel', 'y1_voxel', 'z1_voxel'], 'has_profiles': True}\n",
      "OMM: {'n_thickness_measurements': 36971, 'n_intensity_profiles': 36971, 'thickness_range': (np.float64(2.2174869), np.float64(7.995263)), 'thickness_mean': np.float64(4.853210620732467), 'thickness_std': np.float64(0.6645813972741067), 'coordinate_columns': ['x1_voxel', 'y1_voxel', 'z1_voxel'], 'has_profiles': True}\n"
     ]
    }
   ],
   "source": [
    "# Check loaded data\n",
    "print(\"Data Summary:\")\n",
    "for name, data in [(\"NE\", NE_data), (\"IMM\", IMM_data), (\"OMM\", OMM_data)]:\n",
    "    summary = data.get_summary()\n",
    "    print(f\"{name}: {summary}\")"
   ]
  },
  {
   "cell_type": "markdown",
   "id": "a8b93ef2",
   "metadata": {},
   "source": [
    "### 2. Extract Thickness Measurements"
   ]
  },
  {
   "cell_type": "code",
   "execution_count": 7,
   "id": "d16a520a",
   "metadata": {},
   "outputs": [
    {
     "name": "stdout",
     "output_type": "stream",
     "text": [
      "\n",
      "Thickness Analysis Summary:\n",
      "==========================\n",
      "Number of measurements: 200,594\n",
      "Mean thickness: 5.72 nm\n",
      "Standard deviation: 0.64 nm\n",
      "Median thickness: 5.71 nm\n",
      "Range: 1.92 - 8.00 nm\n",
      "IQR: 0.86 nm\n",
      "\n",
      "\n",
      "Thickness Analysis Summary:\n",
      "==========================\n",
      "Number of measurements: 68,312\n",
      "Mean thickness: 5.21 nm\n",
      "Standard deviation: 0.89 nm\n",
      "Median thickness: 5.02 nm\n",
      "Range: 1.75 - 8.00 nm\n",
      "IQR: 1.26 nm\n",
      "\n",
      "\n",
      "Thickness Analysis Summary:\n",
      "==========================\n",
      "Number of measurements: 36,971\n",
      "Mean thickness: 4.85 nm\n",
      "Standard deviation: 0.66 nm\n",
      "Median thickness: 4.83 nm\n",
      "Range: 2.22 - 8.00 nm\n",
      "IQR: 0.71 nm\n",
      "\n"
     ]
    }
   ],
   "source": [
    "NE_thickness = maple.analyze_membrane_thickness(\n",
    "    data=NE_data,\n",
    "    outlier_removal_method=None       # But can be set to IQR method for filtering the results, percentile as well\n",
    ")\n",
    "\n",
    "IMM_thickness = maple.analyze_membrane_thickness(IMM_data)\n",
    "OMM_thickness = maple.analyze_membrane_thickness(OMM_data)\n",
    "\n",
    "print(NE_thickness.get_summary())\n",
    "print(IMM_thickness.get_summary())\n",
    "print(OMM_thickness.get_summary())"
   ]
  },
  {
   "cell_type": "code",
   "execution_count": 8,
   "id": "0d461d2a",
   "metadata": {},
   "outputs": [
    {
     "name": "stdout",
     "output_type": "stream",
     "text": [
      "Mean thickness: 5.72 ± 0.64 nm\n",
      "Median thickness: 5.71 nm\n",
      "Thickness range: 1.92 - 8.00 nm\n"
     ]
    }
   ],
   "source": [
    "# Access stats\n",
    "stats = NE_thickness.statistics\n",
    "print(f\"Mean thickness: {stats['mean']:.2f} ± {stats['std']:.2f} nm\")\n",
    "print(f\"Median thickness: {stats['median']:.2f} nm\")\n",
    "print(f\"Thickness range: {stats['min']:.2f} - {stats['max']:.2f} nm\")"
   ]
  },
  {
   "cell_type": "markdown",
   "id": "ca7fc402",
   "metadata": {},
   "source": [
    "### 3. Extract Intensity Profile Features"
   ]
  },
  {
   "cell_type": "code",
   "execution_count": 9,
   "id": "af09e300",
   "metadata": {},
   "outputs": [
    {
     "name": "stdout",
     "output_type": "stream",
     "text": [
      "Analyzing 200594 intensity profiles...\n",
      "Created 25 thickness bins for profiles\n",
      "Analyzing 68312 intensity profiles...\n",
      "Created 27 thickness bins for profiles\n",
      "Analyzing 36971 intensity profiles...\n",
      "Created 25 thickness bins for profiles\n",
      "\n",
      "Intensity Profile Analysis Summary:\n",
      "==================================\n",
      "Number of profiles: 200,594\n",
      "Extension range: (-8, 8) voxels\n",
      "Interpolation points: 201\n",
      "Profile type: filtered\n",
      "Binned profiles: Yes\n",
      "Number of thickness bins: 25\n",
      "\n",
      "\n",
      "Intensity Profile Analysis Summary:\n",
      "==================================\n",
      "Number of profiles: 68,312\n",
      "Extension range: (-8, 8) voxels\n",
      "Interpolation points: 201\n",
      "Profile type: filtered\n",
      "Binned profiles: Yes\n",
      "Number of thickness bins: 27\n",
      "\n",
      "\n",
      "Intensity Profile Analysis Summary:\n",
      "==================================\n",
      "Number of profiles: 36,971\n",
      "Extension range: (-8, 8) voxels\n",
      "Interpolation points: 201\n",
      "Profile type: filtered\n",
      "Binned profiles: Yes\n",
      "Number of thickness bins: 25\n",
      "\n"
     ]
    }
   ],
   "source": [
    "# This is the function that works under the hood of the intensity profile plotting function. Not strictly required as standalone\n",
    "\n",
    "NE_profiles_analysed = maple.analyze_intensity_profiles(\n",
    "    data=NE_data,\n",
    "    extension_range_voxels=(-8, 8),     # When you plot the data, this is the distance you'll see from the midpoint\n",
    "    bin_profiles_by_thickness=True,     # Bin profiles depending on membrane thickness\n",
    "    thickness_bin_size_nm=0.20         # Bin size\n",
    ")\n",
    "\n",
    "IMM_profiles_analysed = maple.analyze_intensity_profiles(\n",
    "    data=IMM_data,\n",
    "    extension_range_voxels=(-8, 8),\n",
    "    bin_profiles_by_thickness=True,\n",
    "    thickness_bin_size_nm=0.20\n",
    ")\n",
    "\n",
    "OMM_profiles_analysed = maple.analyze_intensity_profiles(\n",
    "    data=OMM_data,\n",
    "    extension_range_voxels=(-8, 8),\n",
    "    bin_profiles_by_thickness=True,\n",
    "    thickness_bin_size_nm=0.20\n",
    ")\n",
    "\n",
    "print(NE_profiles_analysed.get_summary())\n",
    "print(IMM_profiles_analysed.get_summary())\n",
    "print(OMM_profiles_analysed.get_summary())\n",
    "\n"
   ]
  },
  {
   "cell_type": "markdown",
   "id": "d0d8a2c8",
   "metadata": {},
   "source": [
    "### 4. Perform a leaflet asymmetry analysis\n",
    "\n",
    "Calculate the ratio of the intensity differences between each minimum and the central maximum (asymmetry score)\n",
    "\n",
    "#### Asymmetry scores\n",
    "- **Symmetric membranes**: Scores near 1.0 (0% asymmetry)\n",
    "- **Asymmetric membranes**: Scores e.g., >1.2 (>20% asymmetry)\n",
    "- **Check for outliers**: Using the bubble plot or 3D plot"
   ]
  },
  {
   "cell_type": "code",
   "execution_count": 10,
   "id": "4149a149",
   "metadata": {},
   "outputs": [
    {
     "name": "stdout",
     "output_type": "stream",
     "text": [
      "Starting asymmetry analysis on 200594 profiles...\n",
      "Created 31 bins from 1.9 to 8.0 nm\n",
      "    Processed bin 3.42 nm: 55 profiles, asymmetry = 1.326\n",
      "    Processed bin 3.62 nm: 44 profiles, asymmetry = 1.073\n",
      "    Processed bin 3.82 nm: 203 profiles, asymmetry = 1.135\n",
      "    Processed bin 4.02 nm: 478 profiles, asymmetry = 1.050\n",
      "    Processed bin 4.22 nm: 2,021 profiles, asymmetry = 1.065\n",
      "    Processed bin 5.22 nm: 26,371 profiles, asymmetry = 1.069\n",
      "    Processed bin 6.22 nm: 15,461 profiles, asymmetry = 1.058\n",
      "    Processed bin 7.22 nm: 1,885 profiles, asymmetry = 1.036\n",
      "Successfully calculated asymmetry for 24 bins\n",
      "Rejected 7 bins (insufficient profiles)\n",
      "\n",
      "=== Asymmetry Analysis Summary ===\n",
      "Total profiles analyzed: 200,570\n",
      "Mean asymmetry: 6.6%\n",
      "Median asymmetry: 5.5%\n",
      "Highly asymmetric bins (>20%): 1/24 (4.2%)\n",
      "Intensity-based calculations: 24\n",
      "Position-based calculations: 0\n",
      "\n",
      "Asymmetry Analysis Summary:\n",
      "==========================\n",
      "Total bins created: 24\n",
      "Valid bins: 24\n",
      "Rejected bins: 7\n",
      "Total profiles analyzed: 200,570\n",
      "\n",
      "Asymmetry Statistics:\n",
      "- Median asymmetry: 1.055 (5.5%)\n",
      "- Mean asymmetry: 1.066 (6.6%)\n",
      "- Standard deviation: 0.060\n",
      "- Range: 1.012 - 1.326\n",
      "- Notably asymmetric bins (>20%): 1\n",
      "\n",
      "Mean asymmetry score: 1.07\n",
      "Starting asymmetry analysis on 68312 profiles...\n",
      "Created 32 bins from 1.8 to 8.0 nm\n",
      "    Processed bin 2.85 nm: 44 profiles, asymmetry = 1.001\n",
      "    Processed bin 3.25 nm: 206 profiles, asymmetry = 1.173\n",
      "    Processed bin 3.45 nm: 308 profiles, asymmetry = 1.062\n",
      "    Processed bin 3.65 nm: 666 profiles, asymmetry = 1.017\n",
      "    Processed bin 3.85 nm: 2,578 profiles, asymmetry = 1.005\n",
      "    Processed bin 4.85 nm: 3,552 profiles, asymmetry = 1.024\n",
      "    Processed bin 5.85 nm: 3,821 profiles, asymmetry = 1.014\n",
      "    Processed bin 6.85 nm: 1,607 profiles, asymmetry = 1.002\n",
      "    Processed bin 7.85 nm: 339 profiles, asymmetry = 1.015\n",
      "Successfully calculated asymmetry for 26 bins\n",
      "Rejected 6 bins (insufficient profiles)\n",
      "\n",
      "=== Asymmetry Analysis Summary ===\n",
      "Total profiles analyzed: 68,275\n",
      "Mean asymmetry: 3.4%\n",
      "Median asymmetry: 2.3%\n",
      "Highly asymmetric bins (>20%): 0/26 (0.0%)\n",
      "Intensity-based calculations: 26\n",
      "Position-based calculations: 0\n",
      "Starting asymmetry analysis on 36971 profiles...\n",
      "Created 29 bins from 2.2 to 8.0 nm\n",
      "    Processed bin 2.92 nm: 39 profiles, asymmetry = 1.159\n",
      "    Processed bin 3.32 nm: 344 profiles, asymmetry = 1.099\n",
      "    Processed bin 3.52 nm: 337 profiles, asymmetry = 1.046\n",
      "    Processed bin 3.72 nm: 310 profiles, asymmetry = 1.040\n",
      "    Processed bin 3.92 nm: 2,674 profiles, asymmetry = 1.022\n",
      "    Processed bin 4.92 nm: 2,231 profiles, asymmetry = 1.005\n",
      "    Processed bin 5.92 nm: 687 profiles, asymmetry = 1.029\n",
      "    Processed bin 6.92 nm: 114 profiles, asymmetry = 1.032\n",
      "    Processed bin 7.92 nm: 47 profiles, asymmetry = 1.062\n",
      "Successfully calculated asymmetry for 25 bins\n",
      "Rejected 4 bins (insufficient profiles)\n",
      "\n",
      "=== Asymmetry Analysis Summary ===\n",
      "Total profiles analyzed: 36,955\n",
      "Mean asymmetry: 5.1%\n",
      "Median asymmetry: 2.9%\n",
      "Highly asymmetric bins (>20%): 0/25 (0.0%)\n",
      "Intensity-based calculations: 25\n",
      "Position-based calculations: 0\n"
     ]
    }
   ],
   "source": [
    "NE_asymmetry = maple.analyze_membrane_asymmetry(\n",
    "    data=NE_data,\n",
    "    thickness_bin_size_nm=0.2,         # Bin size for analysis\n",
    "    min_profiles_per_bin=30,           # Minimum profiles required for the bin to be considered\n",
    "    use_unity_scoring=True,            # 1.0 = symmetric, >1.0 = asymmetric\n",
    "    use_median_aggregation=True,\n",
    "    outlier_removal_method=None,      # But outliers can be removed based on IQR filtering\n",
    ")\n",
    "\n",
    "print(NE_asymmetry.get_asymmetry_summary())\n",
    "\n",
    "# Access results\n",
    "results_df = NE_asymmetry.bin_results\n",
    "mean_asymmetry = results_df['asymmetry_score'].mean()\n",
    "print(f\"Mean asymmetry score: {mean_asymmetry:.2f}\")\n",
    "\n",
    "IMM_asymmetry = maple.analyze_membrane_asymmetry(\n",
    "    data=IMM_data, \n",
    "    thickness_bin_size_nm=0.2, \n",
    "    min_profiles_per_bin=30,    \n",
    "    use_unity_scoring=True,     \n",
    "    use_median_aggregation=True \n",
    ")\n",
    "\n",
    "OMM_asymmetry = maple.analyze_membrane_asymmetry(\n",
    "    data=OMM_data, \n",
    "    thickness_bin_size_nm=0.2,  \n",
    "    min_profiles_per_bin=30,   \n",
    "    use_unity_scoring=True,     \n",
    "    use_median_aggregation=True \n",
    ")"
   ]
  },
  {
   "cell_type": "markdown",
   "id": "3d8f9971",
   "metadata": {},
   "source": [
    "## Results Visualization\n",
    "\n",
    "### 1. Thickness distributions"
   ]
  },
  {
   "cell_type": "code",
   "execution_count": null,
   "id": "82b15cbd",
   "metadata": {},
   "outputs": [
    {
     "name": "stdout",
     "output_type": "stream",
     "text": [
      "\n",
      "Statistics for NE:\n",
      "  Mean: 5.72 nm\n",
      "  Std:  0.64 nm\n",
      "  Median: 5.71 nm\n",
      "  Count: 200,594\n",
      "\n",
      "Statistics for IMM:\n",
      "  Mean: 5.21 nm\n",
      "  Std:  0.89 nm\n",
      "  Median: 5.02 nm\n",
      "  Count: 68,312\n",
      "\n",
      "Statistics for OMM:\n",
      "  Mean: 4.85 nm\n",
      "  Std:  0.66 nm\n",
      "  Median: 4.83 nm\n",
      "  Count: 36,971\n"
     ]
    }
   ],
   "source": [
    "thickness_plot = maple.plot_thickness_distribution(\n",
    "    data=[NE_thickness, IMM_thickness, OMM_thickness],\n",
    "    membrane_names=['NE', 'IMM', 'OMM'],\n",
    "    histogram_bins=40,\n",
    "    thickness_range=(1, 10),\n",
    "    show_statistics=True,\n",
    "    show_mean_lines=True,\n",
    "    density_normalization=True,\n",
    "    colors=['#1f77b4', '#ff7f0e', '#2ca02c'],\n",
    "    plot_title='Organelle Thickness Distributions'\n",
    ")\n",
    "\n",
    "#thickness_plot.show()\n",
    "thickness_plot.write_html(\"plots/thickness_distribution.html\", include_plotlyjs=\"cdn\")"
   ]
  },
  {
   "cell_type": "code",
   "execution_count": 3,
   "id": "348a63b8",
   "metadata": {},
   "outputs": [
    {
     "data": {
      "text/html": [
       "\n",
       "        <iframe\n",
       "            width=\"800\"\n",
       "            height=\"600\"\n",
       "            src=\"plots/thickness_distribution.html\"\n",
       "            frameborder=\"0\"\n",
       "            allowfullscreen\n",
       "            \n",
       "        ></iframe>\n",
       "        "
      ],
      "text/plain": [
       "<IPython.lib.display.IFrame at 0x177d4a2e0>"
      ]
     },
     "execution_count": 3,
     "metadata": {},
     "output_type": "execute_result"
    }
   ],
   "source": [
    "IFrame(\"plots/thickness_distribution.html\", width=800, height=600)"
   ]
  },
  {
   "cell_type": "markdown",
   "id": "2292db9d",
   "metadata": {},
   "source": [
    "### 2. Membrane thickness maps"
   ]
  },
  {
   "cell_type": "code",
   "execution_count": null,
   "id": "1372d1c7",
   "metadata": {},
   "outputs": [],
   "source": [
    "spatial_plot = maple.plot_thickness_3d(\n",
    "    data=[NE_thickness, IMM_thickness, OMM_thickness],\n",
    "    membrane_names=['NE', 'IMM', 'OMM'],\n",
    "    color_scale='OrRd',\n",
    "    color_range=(2, 8),                # Thickness color range\n",
    "    marker_size=2,\n",
    "    sample_fraction=0.5,               # Downsample for quicker visualization\n",
    "    plot_title='Membrane thickness maps'\n",
    ")\n",
    "\n",
    "#spatial_plot.show()\n",
    "spatial_plot.write_html(\"plots/thickness_3d_plot.html\", include_plotlyjs=\"cdn\")"
   ]
  },
  {
   "cell_type": "code",
   "execution_count": 4,
   "id": "0e68849d",
   "metadata": {},
   "outputs": [
    {
     "data": {
      "text/html": [
       "\n",
       "        <iframe\n",
       "            width=\"800\"\n",
       "            height=\"600\"\n",
       "            src=\"plots/thickness_3d_plot.html\"\n",
       "            frameborder=\"0\"\n",
       "            allowfullscreen\n",
       "            \n",
       "        ></iframe>\n",
       "        "
      ],
      "text/plain": [
       "<IPython.lib.display.IFrame at 0x177d4a640>"
      ]
     },
     "execution_count": 4,
     "metadata": {},
     "output_type": "execute_result"
    }
   ],
   "source": [
    "IFrame(\"plots/thickness_3d_plot.html\", width=800, height=600)"
   ]
  },
  {
   "cell_type": "code",
   "execution_count": null,
   "id": "0ebadda0",
   "metadata": {},
   "outputs": [
    {
     "name": "stdout",
     "output_type": "stream",
     "text": [
      "NE mean thickness: 5.72 nm\n",
      "IMM mean thickness: 5.21 nm\n",
      "OMM mean thickness: 4.85 nm\n"
     ]
    }
   ],
   "source": [
    "# Color membranes by their mean thickness\n",
    "spatial_mean_plot = maple.plot_thickness_3d(\n",
    "    [NE_thickness,IMM_thickness, OMM_thickness],\n",
    "    membrane_names=['NE', 'IMM', 'OMM'],\n",
    "    marker_size=2,\n",
    "    plot_title='Mean membrane thickness map',\n",
    "    color_by_mean=True,\n",
    "    color_range = (4.5,6.5),\n",
    "    color_scale = 'BuPu',\n",
    "    sample_fraction=0.5  # Downsample for quicker visualization\n",
    ")\n",
    "\n",
    "#spatial_mean_plot.show()\n",
    "spatial_mean_plot.write_html(\"plots/thickness_mean_plot.html\", include_plotlyjs=\"cdn\")"
   ]
  },
  {
   "cell_type": "code",
   "execution_count": 5,
   "id": "46a47c03",
   "metadata": {},
   "outputs": [
    {
     "data": {
      "text/html": [
       "\n",
       "        <iframe\n",
       "            width=\"800\"\n",
       "            height=\"600\"\n",
       "            src=\"plots/thickness_mean_plot.html\"\n",
       "            frameborder=\"0\"\n",
       "            allowfullscreen\n",
       "            \n",
       "        ></iframe>\n",
       "        "
      ],
      "text/plain": [
       "<IPython.lib.display.IFrame at 0x1045b1c10>"
      ]
     },
     "execution_count": 5,
     "metadata": {},
     "output_type": "execute_result"
    }
   ],
   "source": [
    "IFrame(\"plots/thickness_mean_plot.html\", width=800, height=600)"
   ]
  },
  {
   "cell_type": "markdown",
   "id": "c8ad4b2a",
   "metadata": {},
   "source": [
    "### 3. Visualize surface assignment (PCA results)"
   ]
  },
  {
   "cell_type": "code",
   "execution_count": null,
   "id": "234aec60",
   "metadata": {},
   "outputs": [
    {
     "name": "stdout",
     "output_type": "stream",
     "text": [
      "NE: Surface 1 points: 100,297, Surface 2 points: 100,297\n"
     ]
    }
   ],
   "source": [
    "surface_plot = maple.plot_surfaces(\n",
    "    data=NE_thickness,\n",
    "    membrane_names=['NE'],\n",
    "    surface1_color='#1f77b4',         # Blue for surface 1\n",
    "    surface2_color='#ff7f0e',         # Orange for surface 2\n",
    "    marker_size=3,\n",
    "    sample_fraction=0.5,            # Downsample for quicker visualization\n",
    "    plot_title='Assignment of surface points'\n",
    ")\n",
    "\n",
    "#surface_plot.show()\n",
    "surface_plot.write_html(\"plots/surface_assignment_NE.html\", include_plotlyjs=\"cdn\")"
   ]
  },
  {
   "cell_type": "code",
   "execution_count": 6,
   "id": "366c0889",
   "metadata": {},
   "outputs": [
    {
     "data": {
      "text/html": [
       "\n",
       "        <iframe\n",
       "            width=\"800\"\n",
       "            height=\"600\"\n",
       "            src=\"plots/surface_assignment_NE.html\"\n",
       "            frameborder=\"0\"\n",
       "            allowfullscreen\n",
       "            \n",
       "        ></iframe>\n",
       "        "
      ],
      "text/plain": [
       "<IPython.lib.display.IFrame at 0x1045b1c40>"
      ]
     },
     "execution_count": 6,
     "metadata": {},
     "output_type": "execute_result"
    }
   ],
   "source": [
    "IFrame(\"plots/surface_assignment_NE.html\", width=800, height=600)"
   ]
  },
  {
   "cell_type": "markdown",
   "id": "2cfb7492",
   "metadata": {},
   "source": [
    "### 4. Summarized intensity profiles (measurement points are projected as vertical lines)"
   ]
  },
  {
   "cell_type": "code",
   "execution_count": null,
   "id": "1ef7bdc3",
   "metadata": {},
   "outputs": [],
   "source": [
    "profile_plot = maple.plot_intensity_profile_summary(\n",
    "    data=[NE_profiles_analysed, IMM_profiles_analysed, OMM_profiles_analysed], # Load results of analyze_intensity_profiles(), not directly the .pkl files\n",
    "    membrane_names=['NE', 'IMM', 'OMM'],\n",
    "    extension_range_voxels=(-8, 8),   # Generally keep the same as the parameter with which the pipeline was run, otherwise you'll get a straight line at intensity = 0\n",
    "    voxel_size_nm=0.784,                # Convert x-axis to nm, otherwise will be shown in voxels\n",
    "    show_individual_profiles=False,\n",
    "    show_mean_profile=True,\n",
    "    show_percentile_bands=True,\n",
    "    colors=['#1f77b4', '#ff7f0e', '#2ca02c'],\n",
    "    plot_title='Extracted intensity profiles (summary)'\n",
    ")\n",
    "\n",
    "#profile_plot.show()\n",
    "profile_plot.write_html(\"plots/intensity_profiles_all.html\", include_plotlyjs=\"cdn\")"
   ]
  },
  {
   "cell_type": "code",
   "execution_count": 7,
   "id": "b1a7c89e",
   "metadata": {},
   "outputs": [
    {
     "data": {
      "text/html": [
       "\n",
       "        <iframe\n",
       "            width=\"800\"\n",
       "            height=\"600\"\n",
       "            src=\"plots/intensity_profiles_all.html\"\n",
       "            frameborder=\"0\"\n",
       "            allowfullscreen\n",
       "            \n",
       "        ></iframe>\n",
       "        "
      ],
      "text/plain": [
       "<IPython.lib.display.IFrame at 0x104574700>"
      ]
     },
     "execution_count": 7,
     "metadata": {},
     "output_type": "execute_result"
    }
   ],
   "source": [
    "IFrame(\"plots/intensity_profiles_all.html\", width=800, height=600)"
   ]
  },
  {
   "cell_type": "markdown",
   "id": "fa12d508",
   "metadata": {},
   "source": [
    "### 5. Thickness-binned intensity profiles"
   ]
  },
  {
   "cell_type": "code",
   "execution_count": null,
   "id": "a283f41b",
   "metadata": {},
   "outputs": [
    {
     "name": "stdout",
     "output_type": "stream",
     "text": [
      "Using 4 bins for NE:\n",
      "  Bin 1: 1.9-5.3 nm: 56,777 profiles\n",
      "  Bin 2: 5.3-5.7 nm: 59,631 profiles\n",
      "  Bin 3: 5.7-6.1 nm: 59,829 profiles\n",
      "  Bin 4: 6.1-8.0 nm: 54,622 profiles\n"
     ]
    }
   ],
   "source": [
    "binned_plot = maple.plot_intensity_profile_binned(\n",
    "    data=NE_profiles_analysed, # Load results of analyze_intensity_profiles(), not directly the .pkl files\n",
    "    membrane_names=['NE'],\n",
    "    thickness_bins=4,                  # Number of bins\n",
    "    binning_method='quantile',         # Equal numbers of profiles per bin\n",
    "    extension_range_voxels=(-8, 8),\n",
    "    voxel_size_nm=0.784,\n",
    "    plot_title='NE profiles per thickness quartile'\n",
    ")\n",
    "\n",
    "#binned_plot.show()\n",
    "binned_plot.write_html(\"plots/intensity_profiles_NE_binned.html\", include_plotlyjs=\"cdn\")"
   ]
  },
  {
   "cell_type": "code",
   "execution_count": 8,
   "id": "f4b6b445",
   "metadata": {},
   "outputs": [
    {
     "data": {
      "text/html": [
       "\n",
       "        <iframe\n",
       "            width=\"800\"\n",
       "            height=\"600\"\n",
       "            src=\"plots/intensity_profiles_NE_binned.html\"\n",
       "            frameborder=\"0\"\n",
       "            allowfullscreen\n",
       "            \n",
       "        ></iframe>\n",
       "        "
      ],
      "text/plain": [
       "<IPython.lib.display.IFrame at 0x105112880>"
      ]
     },
     "execution_count": 8,
     "metadata": {},
     "output_type": "execute_result"
    }
   ],
   "source": [
    "IFrame(\"plots/intensity_profiles_NE_binned.html\", width=800, height=600)"
   ]
  },
  {
   "cell_type": "code",
   "execution_count": null,
   "id": "61ca5b80",
   "metadata": {},
   "outputs": [
    {
     "name": "stdout",
     "output_type": "stream",
     "text": [
      "Using 4 bins for NE:\n",
      "  Bin 1: 1.9-3.4 nm: 41 profiles\n",
      "  Bin 2: 3.4-5.0 nm: 19,851 profiles\n",
      "  Bin 3: 5.0-6.5 nm: 160,298 profiles\n",
      "  Bin 4: 6.5-8.0 nm: 20,404 profiles\n"
     ]
    }
   ],
   "source": [
    "equal_width_plot = maple.plot_intensity_profile_binned(\n",
    "    data=NE_profiles_analysed, # Load results of analyze_intensity_profiles(), not directly the .pkl files\n",
    "    membrane_names=['NE'],\n",
    "    thickness_bins=4,                  # Number of bins\n",
    "    binning_method='equal_width',         # Divide the thickness range into bins with equal widths, different number of profiles per bin\n",
    "    extension_range_voxels=(-8, 8),\n",
    "    voxel_size_nm=0.784,\n",
    "    plot_title='NE profiles binned by equal width'\n",
    ")\n",
    "\n",
    "#equal_width_plot.show()\n",
    "equal_width_plot.write_html(\"plots/intensity_profiles_NE_binned_equal_width.html\", include_plotlyjs=\"cdn\")"
   ]
  },
  {
   "cell_type": "code",
   "execution_count": 9,
   "id": "ce41af46",
   "metadata": {},
   "outputs": [
    {
     "data": {
      "text/html": [
       "\n",
       "        <iframe\n",
       "            width=\"800\"\n",
       "            height=\"600\"\n",
       "            src=\"plots/intensity_profiles_NE_binned_equal_width.html\"\n",
       "            frameborder=\"0\"\n",
       "            allowfullscreen\n",
       "            \n",
       "        ></iframe>\n",
       "        "
      ],
      "text/plain": [
       "<IPython.lib.display.IFrame at 0x177d4a460>"
      ]
     },
     "execution_count": 9,
     "metadata": {},
     "output_type": "execute_result"
    }
   ],
   "source": [
    "IFrame(\"plots/intensity_profiles_NE_binned_equal_width.html\", width=800, height=600)"
   ]
  },
  {
   "cell_type": "markdown",
   "id": "1a341877",
   "metadata": {},
   "source": [
    "### 6. Visualize filtering results"
   ]
  },
  {
   "cell_type": "code",
   "execution_count": null,
   "id": "434c78cd",
   "metadata": {},
   "outputs": [
    {
     "name": "stdout",
     "output_type": "stream",
     "text": [
      "Loaded 221676 original and 200594 filtered profiles for NE\n",
      "Profiles for NE - Passed: 200594, Failed: 21082\n",
      "Loaded 112416 original and 68312 filtered profiles for IMM\n",
      "Profiles for IMM - Passed: 68312, Failed: 44104\n",
      "Loaded 70793 original and 36971 filtered profiles for OMM\n",
      "Profiles for OMM - Passed: 36971, Failed: 33822\n"
     ]
    }
   ],
   "source": [
    "filtering_plot = maple.plot_excluded_included(\n",
    "    thickness_csv=[NE_thickness_csv, IMM_thickness_csv, OMM_thickness_csv],\n",
    "    membrane_names=['NE', 'IMM', 'OMM'],\n",
    "    filtered_profiles_pkl=[NE_profiles, IMM_profiles, OMM_profiles],\n",
    "    original_profiles_pkl=[NE_profiles_nonfiltered, IMM_profiles_nonfiltered, OMM_profiles_nonfiltered],\n",
    "    plot_title='Excluded vs included point pairs'\n",
    "    )\n",
    "\n",
    "#filtering_plot.show()\n",
    "filtering_plot.write_html(\"plots/excluded_vs_included_points.html\", include_plotlyjs=\"cdn\")"
   ]
  },
  {
   "cell_type": "code",
   "execution_count": 10,
   "id": "ef14e82b",
   "metadata": {},
   "outputs": [
    {
     "data": {
      "text/html": [
       "\n",
       "        <iframe\n",
       "            width=\"800\"\n",
       "            height=\"600\"\n",
       "            src=\"plots/excluded_vs_included_points.html\"\n",
       "            frameborder=\"0\"\n",
       "            allowfullscreen\n",
       "            \n",
       "        ></iframe>\n",
       "        "
      ],
      "text/plain": [
       "<IPython.lib.display.IFrame at 0x104574a60>"
      ]
     },
     "execution_count": 10,
     "metadata": {},
     "output_type": "execute_result"
    }
   ],
   "source": [
    "IFrame(\"plots/excluded_vs_included_points.html\", width=800, height=600)"
   ]
  },
  {
   "cell_type": "markdown",
   "id": "b2344f41",
   "metadata": {},
   "source": [
    "### 7. Leaflet asymmetry plots"
   ]
  },
  {
   "cell_type": "code",
   "execution_count": null,
   "id": "6cd34c2e",
   "metadata": {},
   "outputs": [],
   "source": [
    "# Asymmetry histogram\n",
    "asymmetry_hist = maple.plot_asymmetry_distribution(\n",
    "    data=[NE_asymmetry, IMM_asymmetry, OMM_asymmetry],\n",
    "    membrane_names=['NE', 'IMM', 'OMM'],\n",
    "    use_percentages=True,              # Show as percentages\n",
    "    histogram_bins=30,\n",
    "    asymmetry_range=(0, 30),           # Percentage range\n",
    "    y_axis_type='density',\n",
    "    plot_title='Asymmetry distributions'\n",
    ")\n",
    "\n",
    "#asymmetry_hist.show()\n",
    "asymmetry_hist.write_html(\"plots/asymmetry_hist.html\", include_plotlyjs=\"cdn\")"
   ]
  },
  {
   "cell_type": "code",
   "execution_count": 11,
   "id": "a5d133df",
   "metadata": {},
   "outputs": [
    {
     "data": {
      "text/html": [
       "\n",
       "        <iframe\n",
       "            width=\"800\"\n",
       "            height=\"600\"\n",
       "            src=\"plots/asymmetry_hist.html\"\n",
       "            frameborder=\"0\"\n",
       "            allowfullscreen\n",
       "            \n",
       "        ></iframe>\n",
       "        "
      ],
      "text/plain": [
       "<IPython.lib.display.IFrame at 0x104574e80>"
      ]
     },
     "execution_count": 11,
     "metadata": {},
     "output_type": "execute_result"
    }
   ],
   "source": [
    "IFrame(\"plots/asymmetry_hist.html\", width=800, height=600)"
   ]
  },
  {
   "cell_type": "code",
   "execution_count": null,
   "id": "1db0adda",
   "metadata": {},
   "outputs": [],
   "source": [
    "# Asymmetry vs thickness relationship (to check for outliers)\n",
    "bubble_plot = maple.plot_asymmetry_vs_thickness_bubble(\n",
    "    data=[NE_asymmetry, IMM_asymmetry, OMM_asymmetry],\n",
    "    membrane_names=['NE', 'IMM', 'OMM'],\n",
    "    asymmetry_range=(0, 30),\n",
    "    plot_title='Asymmetry vs thickness',\n",
    ")\n",
    "\n",
    "#bubble_plot.show()\n",
    "bubble_plot.write_html(\"plots/asymmetry_bubble.html\", include_plotlyjs=\"cdn\")"
   ]
  },
  {
   "cell_type": "code",
   "execution_count": 12,
   "id": "679a99be",
   "metadata": {},
   "outputs": [
    {
     "data": {
      "text/html": [
       "\n",
       "        <iframe\n",
       "            width=\"800\"\n",
       "            height=\"600\"\n",
       "            src=\"plots/asymmetry_bubble.html\"\n",
       "            frameborder=\"0\"\n",
       "            allowfullscreen\n",
       "            \n",
       "        ></iframe>\n",
       "        "
      ],
      "text/plain": [
       "<IPython.lib.display.IFrame at 0x177d4a280>"
      ]
     },
     "execution_count": 12,
     "metadata": {},
     "output_type": "execute_result"
    }
   ],
   "source": [
    "IFrame(\"plots/asymmetry_bubble.html\", width=800, height=600)"
   ]
  },
  {
   "cell_type": "code",
   "execution_count": null,
   "id": "9d52fecc",
   "metadata": {},
   "outputs": [],
   "source": [
    "# Spatial asymmetry distribution\n",
    "asymmetry_3d = maple.plot_asymmetry_3d(\n",
    "    [NE_asymmetry, IMM_asymmetry, OMM_asymmetry],\n",
    "    membrane_names=['NE', 'IMM', 'OMM'],\n",
    "    asymmetry_range=(0,30),\n",
    "    plot_title='Asymmetry 3D distribution',\n",
    "    color_scale='BuPu',\n",
    "    sample_fraction=0.5\n",
    ")\n",
    "#asymmetry_3d.show()\n",
    "asymmetry_3d.write_html(\"plots/asymmetry_3d_plot.html\", include_plotlyjs=\"cdn\")"
   ]
  },
  {
   "cell_type": "code",
   "execution_count": 13,
   "id": "f46a0894",
   "metadata": {},
   "outputs": [
    {
     "data": {
      "text/html": [
       "\n",
       "        <iframe\n",
       "            width=\"800\"\n",
       "            height=\"600\"\n",
       "            src=\"plots/asymmetry_3d_plot.html\"\n",
       "            frameborder=\"0\"\n",
       "            allowfullscreen\n",
       "            \n",
       "        ></iframe>\n",
       "        "
      ],
      "text/plain": [
       "<IPython.lib.display.IFrame at 0x1045b1a90>"
      ]
     },
     "execution_count": 13,
     "metadata": {},
     "output_type": "execute_result"
    }
   ],
   "source": [
    "IFrame(\"plots/asymmetry_3d_plot.html\", width=800, height=600)"
   ]
  },
  {
   "cell_type": "markdown",
   "id": "21912847",
   "metadata": {},
   "source": [
    "### 8. Plot intensity minima-to-minima distances\n",
    "\n",
    "The minima-to-minima distance is a feature of the profiles that is extracted during analysis and saved in the .pkl file as 'separation_distance'"
   ]
  },
  {
   "cell_type": "code",
   "execution_count": null,
   "id": "78430bf7",
   "metadata": {},
   "outputs": [
    {
     "name": "stdout",
     "output_type": "stream",
     "text": [
      "\n",
      "Statistics for IMM:\n",
      "  Mean: 3.92 nm\n",
      "  Std:  1.05 nm\n",
      "  Median: 3.82 nm\n",
      "  Range: 1.45 - 9.65 nm\n",
      "  Count: 68,304\n",
      "\n",
      "Statistics for OMM:\n",
      "  Mean: 3.76 nm\n",
      "  Std:  0.98 nm\n",
      "  Median: 3.66 nm\n",
      "  Range: 1.45 - 9.53 nm\n",
      "  Count: 36,970\n"
     ]
    }
   ],
   "source": [
    "# Analyze separation between intensity minima\n",
    "min_min_plot = maple.plot_min_to_min_distribution(\n",
    "    data=[IMM_thickness, OMM_thickness],\n",
    "    membrane_names=['IMM', 'OMM'],\n",
    "    histogram_bins=40,\n",
    "    separation_range=(1, 10),          # Distance range\n",
    "    voxel_size_nm=0.784,              # Convert to nm, separation_distance is saved in voxels in the pipeline\n",
    "    show_statistics=True,\n",
    "    plot_title='Minima-to-minima distances'\n",
    ")\n",
    "\n",
    "#min_min_plot.show()\n",
    "min_min_plot.write_html(\"plots/min_min_distances.html\", include_plotlyjs=\"cdn\")"
   ]
  },
  {
   "cell_type": "code",
   "execution_count": 14,
   "id": "f4df6fa4",
   "metadata": {},
   "outputs": [
    {
     "data": {
      "text/html": [
       "\n",
       "        <iframe\n",
       "            width=\"800\"\n",
       "            height=\"600\"\n",
       "            src=\"plots/min_min_distances.html\"\n",
       "            frameborder=\"0\"\n",
       "            allowfullscreen\n",
       "            \n",
       "        ></iframe>\n",
       "        "
      ],
      "text/plain": [
       "<IPython.lib.display.IFrame at 0x10456c970>"
      ]
     },
     "execution_count": 14,
     "metadata": {},
     "output_type": "execute_result"
    }
   ],
   "source": [
    "IFrame(\"plots/min_min_distances.html\", width=800, height=600)"
   ]
  },
  {
   "cell_type": "markdown",
   "id": "4c9d7566",
   "metadata": {},
   "source": [
    "## Extract Coordinates of Matched Measurement Points"
   ]
  },
  {
   "cell_type": "code",
   "execution_count": 23,
   "id": "9c614081",
   "metadata": {},
   "outputs": [
    {
     "name": "stdout",
     "output_type": "stream",
     "text": [
      "Found 1558 profiles in region\n"
     ]
    },
    {
     "data": {
      "text/html": [
       "<div>\n",
       "<style scoped>\n",
       "    .dataframe tbody tr th:only-of-type {\n",
       "        vertical-align: middle;\n",
       "    }\n",
       "\n",
       "    .dataframe tbody tr th {\n",
       "        vertical-align: top;\n",
       "    }\n",
       "\n",
       "    .dataframe thead th {\n",
       "        text-align: right;\n",
       "    }\n",
       "</style>\n",
       "<table border=\"1\" class=\"dataframe\">\n",
       "  <thead>\n",
       "    <tr style=\"text-align: right;\">\n",
       "      <th></th>\n",
       "      <th>profile_index</th>\n",
       "      <th>p1_x</th>\n",
       "      <th>p1_y</th>\n",
       "      <th>p1_z</th>\n",
       "      <th>p2_x</th>\n",
       "      <th>p2_y</th>\n",
       "      <th>p2_z</th>\n",
       "      <th>thickness_nm</th>\n",
       "      <th>passes_filter</th>\n",
       "      <th>has_features</th>\n",
       "      <th>profile_length</th>\n",
       "      <th>minima_between_points</th>\n",
       "      <th>separation_distance</th>\n",
       "      <th>prominence_snr</th>\n",
       "    </tr>\n",
       "  </thead>\n",
       "  <tbody>\n",
       "    <tr>\n",
       "      <th>0</th>\n",
       "      <td>9727</td>\n",
       "      <td>976</td>\n",
       "      <td>54</td>\n",
       "      <td>10</td>\n",
       "      <td>979</td>\n",
       "      <td>60</td>\n",
       "      <td>8</td>\n",
       "      <td>5.488000</td>\n",
       "      <td>True</td>\n",
       "      <td>True</td>\n",
       "      <td>24</td>\n",
       "      <td>True</td>\n",
       "      <td>4.173913</td>\n",
       "      <td>3.553441</td>\n",
       "    </tr>\n",
       "    <tr>\n",
       "      <th>1</th>\n",
       "      <td>9730</td>\n",
       "      <td>971</td>\n",
       "      <td>56</td>\n",
       "      <td>10</td>\n",
       "      <td>975</td>\n",
       "      <td>62</td>\n",
       "      <td>7</td>\n",
       "      <td>6.123236</td>\n",
       "      <td>True</td>\n",
       "      <td>True</td>\n",
       "      <td>25</td>\n",
       "      <td>True</td>\n",
       "      <td>4.666667</td>\n",
       "      <td>8.587264</td>\n",
       "    </tr>\n",
       "    <tr>\n",
       "      <th>2</th>\n",
       "      <td>9733</td>\n",
       "      <td>972</td>\n",
       "      <td>56</td>\n",
       "      <td>10</td>\n",
       "      <td>974</td>\n",
       "      <td>62</td>\n",
       "      <td>7</td>\n",
       "      <td>5.488000</td>\n",
       "      <td>True</td>\n",
       "      <td>True</td>\n",
       "      <td>24</td>\n",
       "      <td>True</td>\n",
       "      <td>5.565217</td>\n",
       "      <td>4.650548</td>\n",
       "    </tr>\n",
       "    <tr>\n",
       "      <th>3</th>\n",
       "      <td>9736</td>\n",
       "      <td>973</td>\n",
       "      <td>56</td>\n",
       "      <td>10</td>\n",
       "      <td>974</td>\n",
       "      <td>62</td>\n",
       "      <td>8</td>\n",
       "      <td>5.020050</td>\n",
       "      <td>True</td>\n",
       "      <td>True</td>\n",
       "      <td>24</td>\n",
       "      <td>True</td>\n",
       "      <td>4.869565</td>\n",
       "      <td>3.060674</td>\n",
       "    </tr>\n",
       "    <tr>\n",
       "      <th>4</th>\n",
       "      <td>9738</td>\n",
       "      <td>966</td>\n",
       "      <td>59</td>\n",
       "      <td>10</td>\n",
       "      <td>969</td>\n",
       "      <td>65</td>\n",
       "      <td>7</td>\n",
       "      <td>5.761200</td>\n",
       "      <td>True</td>\n",
       "      <td>True</td>\n",
       "      <td>25</td>\n",
       "      <td>True</td>\n",
       "      <td>5.333333</td>\n",
       "      <td>7.102457</td>\n",
       "    </tr>\n",
       "  </tbody>\n",
       "</table>\n",
       "</div>"
      ],
      "text/plain": [
       "   profile_index  p1_x  p1_y  p1_z  p2_x  p2_y  p2_z  thickness_nm  \\\n",
       "0           9727   976    54    10   979    60     8      5.488000   \n",
       "1           9730   971    56    10   975    62     7      6.123236   \n",
       "2           9733   972    56    10   974    62     7      5.488000   \n",
       "3           9736   973    56    10   974    62     8      5.020050   \n",
       "4           9738   966    59    10   969    65     7      5.761200   \n",
       "\n",
       "   passes_filter  has_features  profile_length  minima_between_points  \\\n",
       "0           True          True              24                   True   \n",
       "1           True          True              25                   True   \n",
       "2           True          True              24                   True   \n",
       "3           True          True              24                   True   \n",
       "4           True          True              25                   True   \n",
       "\n",
       "   separation_distance  prominence_snr  \n",
       "0             4.173913        3.553441  \n",
       "1             4.666667        8.587264  \n",
       "2             5.565217        4.650548  \n",
       "3             4.869565        3.060674  \n",
       "4             5.333333        7.102457  "
      ]
     },
     "execution_count": 23,
     "metadata": {},
     "output_type": "execute_result"
    }
   ],
   "source": [
    "# Extract the coordinates of matched points - can be used to check with the original tomogram\n",
    "# Returns a dataframe\n",
    "\n",
    "coord_table = maple.create_profile_coordinates_table(\n",
    "    membrane_data=NE_data,\n",
    "    spatial_bounds={                  # Optional, if not specified, will extract all measurement point coordinates\n",
    "        'x': (900, 1000),             # X range in voxels\n",
    "        'y': (50, 150),               # Y range in voxels  \n",
    "        'z': (10, 20)                 # Z range in voxels\n",
    "    },\n",
    "    include_thickness_data=True,\n",
    "    include_profile_metadata=True,\n",
    ")\n",
    "print(f\"Found {len(coord_table)} profiles in region\")\n",
    "coord_table.head()"
   ]
  },
  {
   "cell_type": "markdown",
   "id": "2602d802",
   "metadata": {},
   "source": [
    "## Convert Thickness Data Into Motive Lists\n",
    "Can be useful for ChimeraX visualization"
   ]
  },
  {
   "cell_type": "code",
   "execution_count": 24,
   "id": "c069dcb0",
   "metadata": {},
   "outputs": [
    {
     "name": "stdout",
     "output_type": "stream",
     "text": [
      "Saved motls with 200594 points\n",
      "Saved motls with 68312 points\n",
      "Saved motls with 36971 points\n"
     ]
    }
   ],
   "source": [
    "maple.save_thickness_motls(NE_thickness_csv, output_directory='outputs/')\n",
    "maple.save_thickness_motls(IMM_thickness_csv, output_directory='outputs/')\n",
    "maple.save_thickness_motls(OMM_thickness_csv, output_directory='outputs/')"
   ]
  }
 ],
 "metadata": {
  "kernelspec": {
   "display_name": "Python 3 (ipykernel)",
   "language": "python",
   "name": "python3"
  },
  "language_info": {
   "codemirror_mode": {
    "name": "ipython",
    "version": 3
   },
   "file_extension": ".py",
   "mimetype": "text/x-python",
   "name": "python",
   "nbconvert_exporter": "python",
   "pygments_lexer": "ipython3",
   "version": "3.9.19"
  }
 },
 "nbformat": 4,
 "nbformat_minor": 5
}
