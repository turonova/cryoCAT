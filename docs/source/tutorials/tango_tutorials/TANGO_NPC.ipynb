{
 "cells": [
  {
   "cell_type": "markdown",
   "id": "068b08df",
   "metadata": {},
   "source": [
    "## TANGO Tutorial: Nuclear Pore Complexes\n",
    "\n",
    " This Tutorial was designed to demonstrate the usage of cryoCAT and its module tango.py for the affiliation computation of subunits (SUs) of the cytoplasmic ring (CR) of the nuclear pore complex (NPC)."
   ]
  },
  {
   "cell_type": "markdown",
   "id": "a86a2939",
   "metadata": {},
   "source": [
    "### Note on GUI:\n",
    "\n",
    "To access the TANGO graphical user interface (GUI), you have two options (make sure you are in the environment where **cryocat** is installed):\n",
    "\n",
    "1. Navigate to the `/cryocat/app/` folder and run:\n",
    "\n",
    "   ```bash\n",
    "   python app.py\n",
    "   ```\n",
    "2. Alternatively, simply type the following in the command line:\n",
    "\n",
    "   ```bash\n",
    "   tango_app\n",
    "   ```\n",
    "\n",
    "   **Note:** If you installed **cryocat** in editable mode (recommended) *before* `tango_app` was added, you will need to reinstall it to have the `tango_app` command properly registered.\n",
    "\n",
    "**Important:** Neither of these commands will open the GUI directly. Instead, they will start a local server and display an address in the terminal, such as:\n",
    "\n",
    "```\n",
    "Running on http://127.0.0.1:8050\n",
    "```\n",
    "\n",
    "Copy this address into your browser to access the GUI.\n",
    "\n",
    "For an introduction on how to use the GUI, consider watching [this video](https://oc.biophys.mpg.de/owncloud/s/Bo39F2K5HRK2LPf).\n"
   ]
  },
  {
   "cell_type": "markdown",
   "id": "25ff4701",
   "metadata": {},
   "source": [
    "### Preparation of Notebook\n",
    "\n",
    "autoreload reloads modules automatically before entering the execution of code typed at the IPython prompt."
   ]
  },
  {
   "cell_type": "code",
   "execution_count": 10,
   "id": "3581626b",
   "metadata": {},
   "outputs": [
    {
     "name": "stdout",
     "output_type": "stream",
     "text": [
      "The autoreload extension is already loaded. To reload it, use:\n",
      "  %reload_ext autoreload\n"
     ]
    }
   ],
   "source": [
    "%load_ext autoreload\n",
    "%autoreload 2"
   ]
  },
  {
   "cell_type": "markdown",
   "id": "ac0fbf32",
   "metadata": {},
   "source": [
    "Besides the cryoCAT modules to handle motive lists (cryomotl) and the module dedicated to twist-aware neighborhoods for geometric organization (TANGO), several other common python libraries are imported for this demonstration."
   ]
  },
  {
   "cell_type": "code",
   "execution_count": 11,
   "id": "a7a70044",
   "metadata": {},
   "outputs": [],
   "source": [
    "import numpy as np\n",
    "\n",
    "from scipy.spatial import cKDTree\n",
    "\n",
    "import matplotlib.pyplot as plt\n",
    "\n",
    "from cryocat import cryomotl, tango\n",
    "\n",
    "# for color palette\n",
    "from monet_palette import monet_colors"
   ]
  },
  {
   "cell_type": "markdown",
   "id": "5c9db416",
   "metadata": {},
   "source": [
    "### Input\n",
    "\n",
    "The NPC motive list is loaded. npc_input was preprocessed by cleaning using a mask and by shifting all CR SUs by the CR radius.\n",
    "\n",
    "vis_motl is used to visualize the affiliation results. Its particles had not been shifted in x-direction."
   ]
  },
  {
   "cell_type": "code",
   "execution_count": 12,
   "id": "0edb61e4",
   "metadata": {},
   "outputs": [],
   "source": [
    "npc_input = \"./inputs/cr_mask_cleaned_shifted.em\"\n",
    "\n",
    "npc_motl = cryomotl.EmMotl(npc_input)\n",
    "\n",
    "visualization_input = \"./inputs/cr_mask_cleaned.em\"\n",
    "\n",
    "vis_motl = cryomotl.EmMotl(visualization_input)"
   ]
  },
  {
   "cell_type": "markdown",
   "id": "3f4e7c8e",
   "metadata": {},
   "source": [
    "### Parameter Analysis\n",
    "\n",
    "Nearest neighbors (NNs) and their distances are gained using cKDTree. \n",
    "\n",
    "The search radius for the initial TwistDescriptor depends on NN-statistics.\n",
    "\n",
    "It is chosen so as to have non-empty supports for most subunits (SUs), while not being too large, either. The purpose of choosing a smaller spherical support stems from wanting to compute affiliations.\n",
    "\n",
    "Large supports may contain many false positives, which exist in large, dense quantities in this data. This can slow down computation."
   ]
  },
  {
   "cell_type": "code",
   "execution_count": 13,
   "id": "11b1c21d",
   "metadata": {},
   "outputs": [
    {
     "name": "stdout",
     "output_type": "stream",
     "text": [
      "The median NN distance is 10.411326530299032 voxels.\n"
     ]
    }
   ],
   "source": [
    "positions = npc_motl.get_coordinates()\n",
    "\n",
    "tree = cKDTree(positions)\n",
    "\n",
    "dd, _ = tree.query(positions, k=2)\n",
    "\n",
    "print(f\"The median NN distance is {np.median(dd[:,1])} voxels.\")"
   ]
  },
  {
   "cell_type": "markdown",
   "id": "f3069e11",
   "metadata": {},
   "source": [
    "### Computation of Twist Features"
   ]
  },
  {
   "cell_type": "code",
   "execution_count": null,
   "id": "edbdd57f",
   "metadata": {},
   "outputs": [],
   "source": [
    "npc_twist_desc = tango.TwistDescriptor(input_motl= npc_motl, nn_radius= 30)\n",
    "\n",
    "display(npc_twist_desc.df)"
   ]
  },
  {
   "cell_type": "markdown",
   "id": "54e19807",
   "metadata": {},
   "source": [
    "Among the support options offered by TANGO, the cylindrical support is a well-suited support to crop the initial one to.\n",
    "\n",
    "In the context of a given CR, a subunit's intrinsic z-axis serves as an normal to the nuclear envelope.\n",
    "\n",
    "Thus, a cylinder extending from a SU inwards in the oppsite direction should ideally contain mostly SUs of the same VLP."
   ]
  },
  {
   "cell_type": "code",
   "execution_count": null,
   "id": "95c3f081",
   "metadata": {},
   "outputs": [],
   "source": [
    "height = 10 # try cylindrical support with symmetric = True.\n",
    "\n",
    "# cylinder statistics also require the choice for an axis of rotation; here, a query particle's intrinsic z-axis is chosen.\n",
    "# This choice is inspired by the NPC subunits having z-normals pointing in approximately the same direction.\n",
    "axis = np.array([0, 0, 1])\n",
    "\n",
    "cylinder_supp = tango.Cylinder(npc_twist_desc, radius=30, height=height, axis = axis, symmetric= True)\n",
    "\n",
    "display(cylinder_supp.support.df)"
   ]
  },
  {
   "cell_type": "markdown",
   "id": "e6889221",
   "metadata": {},
   "source": [
    "Using a filter, one can further zoom in on the cytoplasmic rings by reducting the data to those particles, for which the rotation transporting their orientation \n",
    "\n",
    "to that of a neighboring one is close to being a rotation around the intrinsic z-axis.\n",
    "\n",
    "Furthermore, a focus on the eight-fold symmetry of the NPC is implemented in the form of restrictions on the geodesic distance in radians. It is restricted to what is expected for the relative orientation between neighboring SUs i, i+1 (2pi/8), with some room for noise."
   ]
  },
  {
   "cell_type": "code",
   "execution_count": 16,
   "id": "72eb61c6",
   "metadata": {},
   "outputs": [],
   "source": [
    "max_angle = np.degrees(0.5) # tolerance\n",
    "\n",
    "z_axis_filtered = tango.AxisRot(twist_desc= cylinder_supp.support, max_angle= max_angle)\n",
    "\n",
    "# focus on required eight-fold symmetry of the CR.\n",
    "\n",
    "df = z_axis_filtered.filter.df.copy()\n",
    "\n",
    "# By removing the comment in the line of code below, SUs which are included which have a relative orientation close to 4pi/8, which is expected for SUs i, i+2.\n",
    "df = df[((df['geodesic_distance_rad'] > 0.7) & (df['geodesic_distance_rad'] < 0.9))] # | ((df['geodesic_distance_rad'] > 1.4) & (df['geodesic_distance_rad'] < 1.7))]\n",
    "\n",
    "# update the descriptor's data frame in order to use the built-in methods more easily.\n",
    "\n",
    "z_axis_filtered.filter.df = df"
   ]
  },
  {
   "cell_type": "markdown",
   "id": "0b8638c8",
   "metadata": {},
   "source": [
    "Intersecting supports can be deduced from a data frame by treating subtomogram ids as nodes in a graph and connecting them whenever they form a 'qp_id'--'nn_id'--pair in a given row of that data frame.\n",
    "\n",
    "The resulting graph decomposes into connected components which are computed from a twist descriptor using the proximity clustering method.\n",
    "\n",
    "Here, it is applied to the most recent cleaning results. The parameter size_connected_components represents a lower bound for the amount of particles (nodes) per connected component.\n",
    "\n",
    "This is chosen as 3, meaning that data is grouped into a CR if there are at least 3 SU in the same connected component."
   ]
  },
  {
   "cell_type": "code",
   "execution_count": 17,
   "id": "9252e8e6",
   "metadata": {},
   "outputs": [],
   "source": [
    "S = z_axis_filtered.filter.proximity_clustering(size_connected_components= 3)"
   ]
  },
  {
   "cell_type": "markdown",
   "id": "8abd685e",
   "metadata": {},
   "source": [
    "Each connected component is a networkx Graph object, the nodes of which are subtomogram ids, which can be used to get subsets of the input motivelist in order to label that sublist, before concatenating them into the output motive list."
   ]
  },
  {
   "cell_type": "code",
   "execution_count": 18,
   "id": "faabafbc",
   "metadata": {},
   "outputs": [],
   "source": [
    "out_motl = cryomotl.Motl()\n",
    "\n",
    "for i, G in enumerate(S):\n",
    "\n",
    "    subtomo_indices = list(set(G.nodes()))\n",
    "\n",
    "    sub_motl = vis_motl.get_motl_subset(subtomo_indices, feature_id= 'subtomo_id')\n",
    "\n",
    "    sub_motl.df['geom1'] = i * np.ones(sub_motl.df['geom1'].shape[0])\n",
    "\n",
    "    out_motl = out_motl + sub_motl\n",
    "\n",
    "out_motl.write_out('cr_components_tutorial.em')"
   ]
  },
  {
   "cell_type": "markdown",
   "id": "bc25ffda",
   "metadata": {},
   "source": [
    "The results can be visualized and inspected. Labels separating NPCs are included."
   ]
  }
 ],
 "metadata": {
  "kernelspec": {
   "display_name": "Python 3",
   "language": "python",
   "name": "python3"
  },
  "language_info": {
   "codemirror_mode": {
    "name": "ipython",
    "version": 3
   },
   "file_extension": ".py",
   "mimetype": "text/x-python",
   "name": "python",
   "nbconvert_exporter": "python",
   "pygments_lexer": "ipython3",
   "version": "3.9.13"
  }
 },
 "nbformat": 4,
 "nbformat_minor": 5
}
