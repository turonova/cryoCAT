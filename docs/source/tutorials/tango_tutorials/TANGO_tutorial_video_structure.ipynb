{
 "cells": [
  {
   "cell_type": "markdown",
   "id": "e0984364",
   "metadata": {},
   "source": [
    "## TANGO Tutorial Video\n",
    "\n",
    "### This is a guide to the instructions video explaining the graphical user interface (GUI) of TANGO.\n",
    "\n",
    "#### In the video, subtomogram averaging outputs from the EMPIAR-10277 tilt series (HIV-1 CA-SP1 virus-like particles (VLPs)) are being processed."
   ]
  },
  {
   "cell_type": "markdown",
   "id": "7a6dbade",
   "metadata": {},
   "source": [
    "### Note on GUI:\n",
    "\n",
    "To access the TANGO graphical user interface (GUI), you have two options (make sure you are in the environment where **cryocat** is installed):\n",
    "\n",
    "1. Navigate to the `/cryocat/app/` folder and run:\n",
    "\n",
    "   ```bash\n",
    "   python app.py\n",
    "   ```\n",
    "2. Alternatively, simply type the following in the command line:\n",
    "\n",
    "   ```bash\n",
    "   tango_app\n",
    "   ```\n",
    "\n",
    "   **Note:** If you installed **cryocat** in editable mode (recommended) *before* `tango_app` was added, you will need to reinstall it to have the `tango_app` command properly registered.\n",
    "\n",
    "**Important:** Neither of these commands will open the GUI directly. Instead, they will start a local server and display an address in the terminal, such as:\n",
    "\n",
    "```\n",
    "Running on http://127.0.0.1:8050\n",
    "```\n",
    "\n",
    "Copy this address into your browser to access the GUI."
   ]
  },
  {
   "cell_type": "markdown",
   "id": "ff70b26c",
   "metadata": {},
   "source": [
    "### The instructions video can be accessed [here](https://oc.biophys.mpg.de/owncloud/s/H6dprRFrbJ6SnRM). All TANGO tutorials refer to this video.\n",
    "\n",
    "#### Timestamps with a short summary of the respective video content are listed below."
   ]
  },
  {
   "cell_type": "markdown",
   "id": "5cd97f75",
   "metadata": {},
   "source": [
    "\n",
    "- 00:00:00 &ndash; 00:04:14\n",
    "\n",
    "&emsp;&emsp;&emsp; Intro, structure of the interface, loading data, particle data overview, table operations.\n",
    "\n",
    "- 00:04:14 &ndash; 00:07:40\n",
    "\n",
    "&emsp;&emsp;&emsp; Nearest neighbor distance statistics, explanation of \"query points.\"\n",
    "\n",
    "- 00:07:40 &ndash; 00:10:12\n",
    "\n",
    "&emsp;&emsp;&emsp; Twist descriptor base, spherical support, input parameters for initial computation.\n",
    "\n",
    "- 00:10:12 &ndash; 00:13:46\n",
    "\n",
    "&emsp;&emsp;&emsp; Explanation of twist descriptor structure, angular score.\n",
    "\n",
    "- 00:13:46 &ndash; 00:16:54\n",
    "\n",
    "&emsp;&emsp;&emsp; Visualization of particle data, visualization of supports, orientational normalization.\n",
    "\n",
    "- 00:16:54 &ndash; 00:19:47\n",
    "\n",
    "&emsp;&emsp;&emsp; Plotting functions.\n",
    "\n",
    "- 00:19:47 &ndash; 00:24:19\n",
    "\n",
    "&emsp;&emsp;&emsp; Computation of particle affiliations, filtering of basic twist descriptor.\n",
    "\n",
    "- 00:24:19 &ndash; 00:29:44\n",
    "\n",
    "&emsp;&emsp;&emsp; Designing unique descriptors, support options, support parameters, feature catalog, overview of unique descriptor, filtering of descriptor.\n",
    "\n",
    "- 00:29:44 &ndash; 00:33:37\n",
    "\n",
    "&emsp;&emsp;&emsp; Proximity clustering, saving outputs, outro."
   ]
  }
 ],
 "metadata": {
  "language_info": {
   "name": "python"
  }
 },
 "nbformat": 4,
 "nbformat_minor": 5
}
