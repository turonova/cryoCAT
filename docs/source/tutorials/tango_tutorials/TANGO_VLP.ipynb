{
 "cells": [
  {
   "cell_type": "markdown",
   "id": "83e05a19",
   "metadata": {},
   "source": [
    "## TANGO Tutorial: Virus-Like Particles\n",
    "\n",
    "This Tutorial was designed to demonstrate the usage of cryoCAT and its module tango.py for the affiliation computation of immature HIV virus-like particles (VLPs), and some subsequent analyisis."
   ]
  },
  {
   "cell_type": "markdown",
   "id": "2a655155",
   "metadata": {},
   "source": [
    "### Note on GUI:\n",
    "\n",
    "To access the TANGO graphical user interface (GUI), you have two options (make sure you are in the environment where **cryocat** is installed):\n",
    "\n",
    "1. Navigate to the `/cryocat/app/` folder and run:\n",
    "\n",
    "   ```bash\n",
    "   python app.py\n",
    "   ```\n",
    "2. Alternatively, simply type the following in the command line:\n",
    "\n",
    "   ```bash\n",
    "   tango_app\n",
    "   ```\n",
    "\n",
    "   **Note:** If you installed **cryocat** in editable mode (recommended) *before* `tango_app` was added, you will need to reinstall it to have the `tango_app` command properly registered.\n",
    "\n",
    "**Important:** Neither of these commands will open the GUI directly. Instead, they will start a local server and display an address in the terminal, such as:\n",
    "\n",
    "```\n",
    "Running on http://127.0.0.1:8050\n",
    "```\n",
    "\n",
    "Copy this address into your browser to access the GUI.\n",
    "\n",
    "For an introduction on how to use the GUI, consider watching [this video](https://oc.biophys.mpg.de/owncloud/s/Bo39F2K5HRK2LPf).\n"
   ]
  },
  {
   "cell_type": "markdown",
   "id": "445d4bf3",
   "metadata": {},
   "source": [
    "### Preparation of Notebook\n",
    "\n",
    "autoreload reloads modules automatically before entering the execution of code typed at the IPython prompt."
   ]
  },
  {
   "cell_type": "code",
   "execution_count": 1,
   "id": "18e25e37",
   "metadata": {},
   "outputs": [],
   "source": [
    "%load_ext autoreload\n",
    "%autoreload 2"
   ]
  },
  {
   "cell_type": "markdown",
   "id": "9f814c4f",
   "metadata": {},
   "source": [
    "Besides the cryoCAT modules to handle motive lists (cryomotl) and the module dedicated to twist-aware neighborhoods for geometric organization (TANGO), several other common python libraries are imported for this demonstration."
   ]
  },
  {
   "cell_type": "code",
   "execution_count": null,
   "id": "fc876886",
   "metadata": {},
   "outputs": [],
   "source": [
    "import numpy as np\n",
    "\n",
    "from scipy.spatial import cKDTree\n",
    "\n",
    "import matplotlib.pyplot as plt\n",
    "\n",
    "from cryocat import cryomotl, tango\n",
    "\n",
    "# for color palette\n",
    "from monet_palette import monet_colors"
   ]
  },
  {
   "cell_type": "markdown",
   "id": "88537afd",
   "metadata": {},
   "source": [
    "### Input\n",
    "\n",
    "The VLP motive list is loaded. The data was generated from bin1 tomograms with a pixel size of 1.329 Angstrom. "
   ]
  },
  {
   "cell_type": "code",
   "execution_count": 3,
   "id": "99ff3567",
   "metadata": {},
   "outputs": [],
   "source": [
    "vlp_input = \"./inputs/allmotl_qc_sc50_1_hiv_virus_like_particles.em\"\n",
    "\n",
    "distance_scale = dist_scale = 1.329 / 2 # Å/px (HIV VLPs bin1: 1.329 Å/px) # Data is bin2\n",
    "\n",
    "vlp_motl = cryomotl.EmMotl(vlp_input)"
   ]
  },
  {
   "cell_type": "markdown",
   "id": "5e41abe7",
   "metadata": {},
   "source": [
    "### Parameter Analysis\n",
    "\n",
    "Nearest neighbors (NNs) and their distances are gained using cKDTree. \n",
    "\n",
    "The search radius for the initial TwistDescriptor depends on NN-statistics.\n",
    "\n",
    "It is chosen so as to have non-empty supports for most subunits (SUs), while not being too large, either. The purpose of choosing a smaller spherical support stems from wanting to compute affiliations.\n",
    "\n",
    "Some VLPs may be very close to eachother and one wishes to mostly have SUs from the same VLP within a given support. Hwever, a subsequent cleaning step will anyway be used to further ensure this.\n",
    "\n",
    "Better safe than sorry."
   ]
  },
  {
   "cell_type": "code",
   "execution_count": 4,
   "id": "3aded820",
   "metadata": {},
   "outputs": [
    {
     "name": "stdout",
     "output_type": "stream",
     "text": [
      "The search radius for the twist descriptor computation is 3.7615309896214404 nm.\n"
     ]
    }
   ],
   "source": [
    "positions = vlp_motl.get_coordinates()\n",
    "\n",
    "tree = cKDTree(positions)\n",
    "\n",
    "dd, _ = tree.query(positions, k=2)\n",
    "\n",
    "radius = np.median(dd[:,1]) + 5 * np.std(dd[:,1]) \n",
    "\n",
    "print(f\"The search radius for the twist descriptor computation is {radius * distance_scale / 10} nm.\")"
   ]
  },
  {
   "cell_type": "markdown",
   "id": "34188187",
   "metadata": {},
   "source": [
    "### Computation of Twist Features"
   ]
  },
  {
   "cell_type": "code",
   "execution_count": null,
   "id": "4df2d927",
   "metadata": {},
   "outputs": [],
   "source": [
    "vlp_twist_desc = tango.TwistDescriptor(input_motl= vlp_motl, nn_radius= 3 * radius)\n",
    "\n",
    "display(vlp_twist_desc.df)"
   ]
  },
  {
   "cell_type": "markdown",
   "id": "9bd7c619",
   "metadata": {},
   "source": [
    "Among the support options offered by TANGO, the cylindrical support together with the option symmetric= False is a well-suited support to crop the initial one to.\n",
    "\n",
    "In the context of a given VLP, a subunit's intrinsic z-axis serves as an outward pointing normal to the surface. \n",
    "\n",
    "Thus, a cylinder extending from a SU inwards in the oppsite direction should ideally contain mostly SUs of the same VLP."
   ]
  },
  {
   "cell_type": "code",
   "execution_count": null,
   "id": "92f53b46",
   "metadata": {},
   "outputs": [],
   "source": [
    "cylinder_supp = tango.Cylinder(vlp_twist_desc, radius= 3* radius, height=radius / 15, axis = np.array([0,0,-1]), symmetric= False)\n",
    "\n",
    "display(cylinder_supp.support.df)"
   ]
  },
  {
   "cell_type": "markdown",
   "id": "536e0461",
   "metadata": {},
   "source": [
    "An extra cautionary step was included. This one filters the cylindrical support further based on how much the overall relative rotations deviate from a rotation around the intrinsic z-axis. \n",
    "\n",
    "Small deviations hint at close neighboring SUs of the same VLP. \n",
    "\n",
    "A max_angle describes the tolerance of this deviation. The feature to look out for in this case is 'rot_angle_z', which is the default option for tango.AxisRot()."
   ]
  },
  {
   "cell_type": "code",
   "execution_count": null,
   "id": "8d2c80ec",
   "metadata": {},
   "outputs": [],
   "source": [
    "max_angle = np.degrees(0.1)\n",
    "\n",
    "z_axis_filtered = tango.AxisRot(twist_desc= cylinder_supp.support, max_angle= max_angle)\n",
    "\n",
    "display(z_axis_filtered.filter.df)"
   ]
  },
  {
   "cell_type": "markdown",
   "id": "723e5009",
   "metadata": {},
   "source": [
    "Intersecting supports can be deduced from a data frame by treating subtomogram ids as nodes in a graph and connecting them whenever they form a 'qp_id'--'nn_id'--pair in a given row of that data frame.\n",
    "\n",
    "The resulting graph decomposes into connected components which are computed from a twist descriptor using the proximity clustering method.\n",
    "\n",
    "Here, it is applied to the most recent cleaning results. There are 32 VLPs in the data, but due to sparsity, let us look for the 35 biggest connected components."
   ]
  },
  {
   "cell_type": "code",
   "execution_count": 8,
   "id": "4bf93b1f",
   "metadata": {},
   "outputs": [],
   "source": [
    "S = z_axis_filtered.filter.proximity_clustering(num_connected_components= 35)"
   ]
  },
  {
   "cell_type": "markdown",
   "id": "5c1f5c13",
   "metadata": {},
   "source": [
    "Each connected component is a networkx Graph object, the nodes of which are subtomogram ids, which can be used to get subsets of the input motivelist in order to label that sublist, before concatenating them into the output motive list."
   ]
  },
  {
   "cell_type": "code",
   "execution_count": 9,
   "id": "3c29e692",
   "metadata": {},
   "outputs": [],
   "source": [
    "out_motl = cryomotl.Motl()\n",
    "\n",
    "for i, G in enumerate(S):\n",
    "\n",
    "    subtomo_indices = list(set(G.nodes()))\n",
    "\n",
    "    sub_motl = vlp_motl.get_motl_subset(subtomo_indices, feature_id= 'subtomo_id')\n",
    "\n",
    "    sub_motl.df['geom1'] = i * np.ones(sub_motl.df['geom1'].shape[0])\n",
    "\n",
    "    out_motl = out_motl + sub_motl\n",
    "\n",
    "out_motl.write_out('vlp_components_tutorial.em')"
   ]
  },
  {
   "cell_type": "markdown",
   "id": "827aeea9",
   "metadata": {},
   "source": [
    "Note that while some sparse data points are not included in this result, some VLPs are represented using more than one connected component in the sense of the graph structure explained above. \n",
    "\n",
    "This can be improved with parameter tweaking. A bigger support radius, for example, would help catch more SU of a given VLP within a given support.\n",
    "\n",
    "However, other cleaning steps, such as the filtering with respect to z-normal deviation, are sensitive to VLP curvature. The relevant parameters might have to be increased accordingly."
   ]
  },
  {
   "cell_type": "markdown",
   "id": "8251338a",
   "metadata": {},
   "source": [
    "### Lattice analysis\n",
    "\n",
    "Next, we investigate symmetry properties of these lattices.\n",
    "\n",
    "To do so, let us again compute the TwistDescriptor, but now let us do it under the assumption of C_6 symmetry.\n",
    "\n",
    "This assumption makes it so that the ``angular score'' is computed. \n",
    "\n",
    "As far as I know, this score is being introduces in TANGO. It reflects how well data fits into, for example, C_6 symmetry.\n",
    "\n",
    "On top of that, it does so in an unambiguous manner, as it is not provided by the angular distance alone."
   ]
  },
  {
   "cell_type": "code",
   "execution_count": 10,
   "id": "ab1a3b55",
   "metadata": {},
   "outputs": [],
   "source": [
    "vlp_twist_desc_symm = tango.TwistDescriptor(input_motl= vlp_motl, nn_radius= radius, symm= 6)"
   ]
  },
  {
   "cell_type": "markdown",
   "id": "ac9d2e5d",
   "metadata": {},
   "source": [
    "Now we can simply repeat the same data frame processing steps from before to end up with information associated to (patches of) individual VLPs."
   ]
  },
  {
   "cell_type": "code",
   "execution_count": 11,
   "id": "140f2276",
   "metadata": {},
   "outputs": [],
   "source": [
    "cylinder_supp_symm = tango.Cylinder(vlp_twist_desc_symm, radius=radius, height=radius / 15, axis = np.array([0,0,-1]), symmetric= False)\n",
    "\n",
    "z_axis_filtered_symm = tango.AxisRot(twist_desc= cylinder_supp_symm.support, max_angle= max_angle)"
   ]
  },
  {
   "cell_type": "code",
   "execution_count": null,
   "id": "c0d4c7d1",
   "metadata": {},
   "outputs": [],
   "source": [
    "display(z_axis_filtered_symm.filter.df)"
   ]
  },
  {
   "cell_type": "markdown",
   "id": "b512a19a",
   "metadata": {},
   "source": [
    "One can now investigate the angular scores -- how regular are the lattices in the data in the context of C_6 symmetry?\n",
    "\n",
    "What VLP has the highest average angular score?"
   ]
  },
  {
   "cell_type": "code",
   "execution_count": 13,
   "id": "2b5dd1e7",
   "metadata": {},
   "outputs": [
    {
     "data": {
      "image/png": "[encoded data removed]",
      "text/plain": [
       "<Figure size 800x600 with 1 Axes>"
      ]
     },
     "metadata": {},
     "output_type": "display_data"
    },
    {
     "name": "stdout",
     "output_type": "stream",
     "text": [
      "Proportion of data with mean angular score above 0.8: 0.6594521714447914\n"
     ]
    }
   ],
   "source": [
    "df = z_axis_filtered_symm.filter.df.copy()\n",
    "\n",
    "df = df[df['euclidean_distance'] < 35] ## to catch the first shells.\n",
    "\n",
    "mean_distances_whole = df.groupby(['qp_id', 'tomo_id'])['angular_score'].mean().to_dict()\n",
    "\n",
    "plt.figure(figsize=(8, 6))\n",
    "plt.rcParams.update({'font.size': 12})\n",
    "\n",
    "# Compute histogram and keep patches to modify individual bars\n",
    "counts, bins, patches = plt.hist(mean_distances_whole.values(), bins=30, color=monet_colors[5], alpha=0.7)\n",
    "\n",
    "# Paint bars to the right of x = 0.8 in green\n",
    "for bin_left, patch in zip(bins[:-1], patches):\n",
    "    if bin_left >= 0.8:\n",
    "        patch.set_facecolor(monet_colors[2])\n",
    "\n",
    "plt.xlabel('Mean angular score')\n",
    "plt.ylabel('Frequency')\n",
    "\n",
    "plt.show()\n",
    "\n",
    "###\n",
    "data = df.groupby(['qp_id', 'tomo_id'])['angular_score'].mean().to_numpy()\n",
    "print(f\"Proportion of data with mean angular score above 0.8: {np.count_nonzero(data >= 0.8) / len(data)}\")"
   ]
  },
  {
   "cell_type": "markdown",
   "id": "a738c058",
   "metadata": {},
   "source": [
    "It may be interesting to see how the same result looks for different types of C_n symmetry."
   ]
  },
  {
   "cell_type": "code",
   "execution_count": 14,
   "id": "e9836dcb",
   "metadata": {},
   "outputs": [
    {
     "data": {
      "image/png": "[encoded data removed]",
      "text/plain": [
       "<Figure size 800x600 with 1 Axes>"
      ]
     },
     "metadata": {},
     "output_type": "display_data"
    },
    {
     "name": "stdout",
     "output_type": "stream",
     "text": [
      "Proportion of data with mean angular score above 0.8 for C_114 symmetry: 0.041016179392563155\n"
     ]
    }
   ],
   "source": [
    "symm_type = 114\n",
    "\n",
    "vlp_twist_desc_symm = tango.TwistDescriptor(input_motl= vlp_motl, nn_radius= radius, symm= symm_type)\n",
    "\n",
    "cylinder_supp_symm = tango.Cylinder(vlp_twist_desc_symm, radius=radius, height=radius / 15, axis = np.array([0,0,-1]), symmetric= False)\n",
    "\n",
    "z_axis_filtered_symm = tango.AxisRot(twist_desc= cylinder_supp_symm.support, max_angle= max_angle)\n",
    "\n",
    "df = z_axis_filtered_symm.filter.df.copy()\n",
    "\n",
    "df = df[df['euclidean_distance'] < 35] ## to catch the first shells.\n",
    "\n",
    "mean_distances_whole = df.groupby(['qp_id', 'tomo_id'])['angular_score'].mean().to_dict()\n",
    "\n",
    "plt.figure(figsize=(8, 6))\n",
    "plt.rcParams.update({'font.size': 12})\n",
    "\n",
    "# Compute histogram and keep patches to modify individual bars\n",
    "counts, bins, patches = plt.hist(mean_distances_whole.values(), bins=30, color=monet_colors[5], alpha=0.7)\n",
    "\n",
    "# Paint bars to the right of x = 0.8 in green\n",
    "for bin_left, patch in zip(bins[:-1], patches):\n",
    "    if bin_left >= 0.8:\n",
    "        patch.set_facecolor(monet_colors[2])\n",
    "\n",
    "plt.xlabel('Mean angular score')\n",
    "plt.ylabel('Frequency')\n",
    "\n",
    "plt.show()\n",
    "\n",
    "###\n",
    "data = df.groupby(['qp_id', 'tomo_id'])['angular_score'].mean().to_numpy()\n",
    "print(f\"Proportion of data with mean angular score above 0.8 for C_{symm_type} symmetry: {np.count_nonzero(data >= 0.8) / len(data)}\")"
   ]
  },
  {
   "cell_type": "markdown",
   "id": "5fffecbc",
   "metadata": {},
   "source": [
    "Some observations / notes regarding the computation of the mean angular score under the assumption of differen C_n symmetries:\n",
    "\n",
    "The cut-off of considering mean angular scores above 0.8 was arbitrarily chosen. The focus herein lay in a strict notion of hexagonal regularity.\n",
    "\n",
    "The notion of angular score is relative. Furthermore, it is normalized, making it possible to compare different C_n symmetries.\n",
    "\n",
    "Comparison of C_n symmetries for different values of n > 1 shows a preference for C_6 symmetry in the data at hand. \n",
    "\n",
    "C_{k*6} symmetries, for k >= 1, show decreasing ratios for data with mean angular scores above the fixed threshold of 0.8.\n",
    "\n",
    "For some C_n symmetries, n neither a multiple nor a divisor of 6, the above plot approaches a normal distribution. Compare for example the cases C_6 and C_5."
   ]
  }
 ],
 "metadata": {
  "kernelspec": {
   "display_name": "base_clone",
   "language": "python",
   "name": "python3"
  },
  "language_info": {
   "codemirror_mode": {
    "name": "ipython",
    "version": 3
   },
   "file_extension": ".py",
   "mimetype": "text/x-python",
   "name": "python",
   "nbconvert_exporter": "python",
   "pygments_lexer": "ipython3",
   "version": "3.9.13"
  }
 },
 "nbformat": 4,
 "nbformat_minor": 5
}
